{
 "cells": [
  {
   "cell_type": "code",
   "execution_count": null,
   "metadata": {},
   "outputs": [],
   "source": [
    "from preprocessing import prepare_dataset, prepare_dataset_single\n",
    "from models import DANN_Model\n",
    "\n",
    "import numpy as np\n",
    "from sklearn.decomposition import PCA\n",
    "import matplotlib.pyplot as plt\n",
    "import datetime\n",
    "from openTSNE import TSNE"
   ]
  },
  {
   "cell_type": "code",
   "execution_count": null,
   "metadata": {},
   "outputs": [],
   "source": [
    "(source_train_dataset, source_test_dataset) = prepare_dataset_single('MNIST')\n",
    "# (_, target_test_dataset_1) = prepare_dataset_single('MNIST')\n",
    "(target_train_dataset, target_test_dataset) = prepare_dataset_single('SVHN')"
   ]
  },
  {
   "cell_type": "code",
   "execution_count": null,
   "metadata": {},
   "outputs": [],
   "source": [
    "lp_lr = 0.01\n",
    "dc_lr = 0.1\n",
    "fe_lr = 0.01\n",
    "\n",
    "lr = (lp_lr, dc_lr, fe_lr)\n",
    "model = DANN_Model(input_shape=(32, 32, 3), model_type='SVHN', run_name='mnist2svhn', lr=lr)"
   ]
  },
  {
   "cell_type": "code",
   "execution_count": null,
   "metadata": {
    "scrolled": false
   },
   "outputs": [],
   "source": [
    "EPOCHS = 50\n",
    "\n",
    "for epoch in range(EPOCHS):\n",
    "    \n",
    "    print(datetime.datetime.now())\n",
    "    \n",
    "    for (source_images, class_labels), (target_images, _) in zip(source_train_dataset, target_train_dataset):\n",
    "        model.train(source_images, class_labels, target_images)\n",
    "    \n",
    "    latent_source = []\n",
    "    latent_target = []\n",
    "    for (test_images, test_labels), (target_test_images, target_test_labels) in zip(source_test_dataset, target_test_dataset):\n",
    "        model.test_source(test_images, test_labels, target_test_images)\n",
    "        model.test_target(target_test_images, target_test_labels)\n",
    "        \n",
    "        if len(latent_source) == 0:\n",
    "            latent_source = model.return_latent_variables(test_images)\n",
    "        else:\n",
    "            latent_source = np.concatenate([latent_source, model.return_latent_variables(test_images)])\n",
    "            \n",
    "        if len(latent_target) == 0:\n",
    "            latent_target = model.return_latent_variables(target_test_images)\n",
    "        else:\n",
    "            latent_target = np.concatenate([latent_target, model.return_latent_variables(target_test_images)])\n",
    "            \n",
    "    print('Epoch: {}'.format(epoch + 1))\n",
    "    print(model.log())\n",
    "    \n",
    "    index = [0, len(latent_source), len(latent_source) + len(latent_target)]  \n",
    "    latent_variables = np.concatenate([latent_source, latent_target])\n",
    "\n",
    "    pca_embedding = PCA(n_components=2).fit_transform(latent_variables)\n",
    "\n",
    "    plt.figure()\n",
    "    plt.title('Epoch #{}'.format(epoch + 1))\n",
    "    for i in range(len(index) - 1):\n",
    "        plt.plot(pca_embedding[index[i]:index[i+1], 0], pca_embedding[index[i]:index[i+1], 1], '.', alpha=0.5)\n",
    "    plt.legend(['MNIST', 'SVHN'])\n",
    "    plt.show()"
   ]
  },
  {
   "cell_type": "code",
   "execution_count": null,
   "metadata": {},
   "outputs": [],
   "source": [
    "tsne = TSNE(n_components=2, initialization=\"pca\")\n",
    "\n",
    "print(datetime.datetime.now())\n",
    "\n",
    "tsne_embedding = tsne.fit(latent_variables)\n",
    "\n",
    "print(datetime.datetime.now())\n",
    "\n",
    "plt.figure()\n",
    "plt.title('Epoch #{}'.format(epoch + 1))\n",
    "for i in range(len(index) - 1):\n",
    "    plt.plot(tsne_embedding[index[i]:index[i+1], 0], tsne_embedding[index[i]:index[i+1], 1], '.', alpha=0.5)\n",
    "plt.legend(['MNIST', 'SVHN'])\n",
    "plt.show()"
   ]
  },
  {
   "cell_type": "code",
   "execution_count": null,
   "metadata": {},
   "outputs": [],
   "source": [
    "plt.figure()\n",
    "plt.title('Epoch #{}'.format(epoch + 1))\n",
    "for i in range(1, -1, -1):\n",
    "    plt.plot(tsne_embedding[index[i]:index[i+1], 0], tsne_embedding[index[i]:index[i+1], 1], '.', alpha=0.5)\n",
    "plt.legend(['SVHN', 'MNIST'])\n",
    "plt.show()"
   ]
  }
 ],
 "metadata": {
  "kernelspec": {
   "display_name": "Python 3",
   "language": "python",
   "name": "python3"
  },
  "language_info": {
   "codemirror_mode": {
    "name": "ipython",
    "version": 3
   },
   "file_extension": ".py",
   "mimetype": "text/x-python",
   "name": "python",
   "nbconvert_exporter": "python",
   "pygments_lexer": "ipython3",
   "version": "3.6.8"
  }
 },
 "nbformat": 4,
 "nbformat_minor": 2
}

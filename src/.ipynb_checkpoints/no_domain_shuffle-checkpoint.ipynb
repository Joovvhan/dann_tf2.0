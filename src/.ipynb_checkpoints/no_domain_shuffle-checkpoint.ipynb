{
 "cells": [
  {
   "cell_type": "code",
   "execution_count": 1,
   "metadata": {},
   "outputs": [],
   "source": [
    "import numpy as np\n",
    "import tensorflow as tf"
   ]
  },
  {
   "cell_type": "code",
   "execution_count": 2,
   "metadata": {},
   "outputs": [],
   "source": [
    "from models import DANN_Model"
   ]
  },
  {
   "cell_type": "code",
   "execution_count": 3,
   "metadata": {},
   "outputs": [],
   "source": [
    "# x_train_mnist = np.load('../data/mnist/x_train.npy')\n",
    "# y_train_mnist = np.load('../data/mnist/y_train.npy')\n",
    "\n",
    "# x_test_mnist = np.load('../data/mnist/x_test.npy')\n",
    "# y_test_mnist = np.load('../data/mnist/y_test.npy')"
   ]
  },
  {
   "cell_type": "code",
   "execution_count": 4,
   "metadata": {},
   "outputs": [],
   "source": [
    "x_train_svhn = np.load('../data/svhn/x_train.npy')\n",
    "y_train_svhn = np.load('../data/svhn/y_train.npy')\n",
    "\n",
    "x_test_svhn = np.load('../data/svhn/x_test.npy')\n",
    "y_test_svhn = np.load('../data/svhn/y_test.npy')\n",
    "\n",
    "x_train_syn = np.load('../data/syn_num/x_train.npy')\n",
    "y_train_syn = np.load('../data/syn_num/y_train.npy')\n",
    "\n",
    "x_test_syn = np.load('../data/syn_num/x_test.npy')\n",
    "y_test_syn = np.load('../data/syn_num/y_test.npy')"
   ]
  },
  {
   "cell_type": "code",
   "execution_count": 5,
   "metadata": {},
   "outputs": [],
   "source": [
    "# x_train_syn = x_train_syn[:len(x_train_svhn)]\n",
    "# y_train_syn = y_train_syn[:len(x_train_svhn)]"
   ]
  },
  {
   "cell_type": "code",
   "execution_count": 6,
   "metadata": {},
   "outputs": [],
   "source": [
    "# x_train_mnist, x_test_mnist = x_train_mnist / 255.0, x_test_mnist / 255.0\n",
    "\n",
    "x_train_svhn, x_test_svhn = x_train_svhn / 255.0, x_test_svhn / 255.0\n",
    "\n",
    "x_train_syn, x_test_syn = x_train_syn / 255.0, x_test_syn / 255.0"
   ]
  },
  {
   "cell_type": "code",
   "execution_count": 7,
   "metadata": {},
   "outputs": [],
   "source": [
    "# x_train_mnist = tf.cast(x_train_mnist, tf.float32)\n",
    "# x_test_mnist = tf.cast(x_test_mnist, tf.float32)\n",
    "\n",
    "# x_train_svhn = tf.cast(x_train_svhn, tf.float32)\n",
    "# x_test_svhn = tf.cast(x_test_svhn, tf.float32)"
   ]
  },
  {
   "cell_type": "code",
   "execution_count": 8,
   "metadata": {},
   "outputs": [],
   "source": [
    "# x_train_syn = tf.cast(x_train_syn, tf.float32)\n",
    "# x_test_syn = tf.cast(x_test_syn, tf.float32)"
   ]
  },
  {
   "cell_type": "code",
   "execution_count": 10,
   "metadata": {},
   "outputs": [
    {
     "name": "stdout",
     "output_type": "stream",
     "text": [
      "(73257, 32, 32, 3)\n",
      "(26032, 32, 32, 3)\n",
      "(479400, 32, 32, 3)\n",
      "(9553, 32, 32, 3)\n"
     ]
    }
   ],
   "source": [
    "print(x_train_svhn.shape)\n",
    "print(x_test_svhn.shape)\n",
    "\n",
    "print(x_train_syn.shape)\n",
    "print(x_test_syn.shape)"
   ]
  },
  {
   "cell_type": "code",
   "execution_count": 15,
   "metadata": {},
   "outputs": [],
   "source": [
    "x_train_syn = x_train_syn[:len(x_train_svhn)]\n",
    "y_train_syn = y_train_syn[:len(y_train_svhn)]"
   ]
  },
  {
   "cell_type": "code",
   "execution_count": 16,
   "metadata": {},
   "outputs": [],
   "source": [
    "def pad_image(x, y):\n",
    "    \n",
    "    paddings = tf.constant([[2, 2,], [2, 2]])\n",
    "    \n",
    "    new_x = tf.pad(x, paddings, \"CONSTANT\")\n",
    "    \n",
    "    return (new_x, y)\n",
    "\n",
    "def duplicate_channel(x, y):\n",
    "\n",
    "    new_x = tf.stack([x, x, x], axis = -1)\n",
    "    \n",
    "    return (new_x, y)\n",
    "\n",
    "def cast(x, y):\n",
    "    new_x = tf.cast(x, tf.float32)\n",
    "    \n",
    "    return new_x, y"
   ]
  },
  {
   "cell_type": "code",
   "execution_count": 17,
   "metadata": {},
   "outputs": [],
   "source": [
    "# mnist_train_dataset = tf.data.Dataset.from_tensor_slices((x_train_mnist, y_train_mnist))\n",
    "# mnist_train_dataset = mnist_train_dataset.map(pad_image)\n",
    "# mnist_train_dataset = mnist_train_dataset.map(duplicate_channel)\n",
    "# target_train_dataset = mnist_train_dataset.shuffle(len(y_train_mnist))\n",
    "\n",
    "# mnist_test_dataset = tf.data.Dataset.from_tensor_slices((x_test_mnist, y_test_mnist))\n",
    "# mnist_test_dataset = mnist_test_dataset.map(pad_image)\n",
    "# mnist_test_dataset = mnist_test_dataset.map(duplicate_channel)\n",
    "# target_test_dataset = mnist_test_dataset.shuffle(len(y_test_mnist))\n",
    "\n",
    "\n",
    "syn_train_dataset = tf.data.Dataset.from_tensor_slices((x_train_syn, y_train_syn))\n",
    "syn_train_dataset = syn_train_dataset.map(cast)\n",
    "source_train_dataset = syn_train_dataset.shuffle(len(y_train_syn))\n",
    "\n",
    "syn_test_dataset = tf.data.Dataset.from_tensor_slices((x_test_syn, y_test_syn))\n",
    "syn_test_dataset = syn_test_dataset.map(cast)\n",
    "source_test_dataset = syn_train_dataset.shuffle(len(y_test_syn))\n",
    "\n",
    "\n",
    "svhn_train_dataset = tf.data.Dataset.from_tensor_slices((x_train_svhn, y_train_svhn))\n",
    "svhn_train_dataset = svhn_train_dataset.map(cast)\n",
    "target_train_dataset = svhn_train_dataset.shuffle(len(y_train_svhn))\n",
    "\n",
    "svhn_test_dataset = tf.data.Dataset.from_tensor_slices((x_test_svhn, y_test_svhn))\n",
    "svhn_test_dataset = svhn_test_dataset.map(cast)\n",
    "target_test_dataset = svhn_train_dataset.shuffle(len(y_test_svhn))\n",
    "\n",
    "\n",
    "\n",
    "source_train_dataset = source_train_dataset.batch(300)\n",
    "source_train_dataset = source_train_dataset.prefetch(50)\n",
    "\n",
    "source_test_dataset = source_test_dataset.batch(40)\n",
    "source_test_dataset = source_test_dataset.prefetch(50)\n",
    "\n",
    "target_train_dataset = target_train_dataset.batch(300)\n",
    "target_train_dataset = target_train_dataset.prefetch(50)\n",
    "\n",
    "# target_test_dataset = target_test_dataset.batch(500)\n",
    "# target_test_dataset = target_test_dataset.prefetch(50)"
   ]
  },
  {
   "cell_type": "code",
   "execution_count": 18,
   "metadata": {
    "scrolled": false
   },
   "outputs": [],
   "source": [
    "model = DANN_Model(input_shape=(32, 32, 3), model_type='SVHN')"
   ]
  },
  {
   "cell_type": "code",
   "execution_count": null,
   "metadata": {},
   "outputs": [],
   "source": [
    "# for (source_images, class_labels), (target_images, _) in zip(source_train_dataset, target_train_dataset):\n",
    "#     model.train(source_images, class_labels, target_images)\n",
    "#     break"
   ]
  },
  {
   "cell_type": "code",
   "execution_count": 19,
   "metadata": {
    "scrolled": false
   },
   "outputs": [
    {
     "name": "stderr",
     "output_type": "stream",
     "text": [
      "WARNING: Logging before flag parsing goes to stderr.\n",
      "W0628 20:46:14.018074 17388 deprecation.py:323] From c:\\users\\jw\\appdata\\local\\programs\\python\\python36\\lib\\site-packages\\tensorflow\\python\\ops\\math_grad.py:1220: add_dispatch_support.<locals>.wrapper (from tensorflow.python.ops.array_ops) is deprecated and will be removed in a future version.\n",
      "Instructions for updating:\n",
      "Use tf.where in 2.0, which has the same broadcast rule as np.where\n"
     ]
    },
    {
     "name": "stdout",
     "output_type": "stream",
     "text": [
      "Epoch: 1\n",
      "L1: 0.6957, Acc1: 83.31, L1 Test: 0.2812, Acc1 Test: 91.14\n",
      "L2: 0.4929, Acc2: 53.06, L2 Test: 0.8696, Acc2 Test: 11.80\n",
      "L3 Test: 1.2548, Acc3 Test: 60.79\n",
      "\n",
      "Epoch: 2\n",
      "L1: 0.1426, Acc1: 95.45, L1 Test: 0.1512, Acc1 Test: 95.12\n",
      "L2: 0.4112, Acc2: 55.85, L2 Test: 0.7059, Acc2 Test: 50.45\n",
      "L3 Test: 1.2459, Acc3 Test: 65.42\n",
      "\n",
      "Epoch: 3\n",
      "L1: 0.0953, Acc1: 96.86, L1 Test: 0.0998, Acc1 Test: 96.70\n",
      "L2: 0.4012, Acc2: 69.26, L2 Test: 0.6763, Acc2 Test: 68.05\n",
      "L3 Test: 1.0029, Acc3 Test: 72.10\n",
      "\n",
      "Epoch: 4\n",
      "L1: 0.0718, Acc1: 97.59, L1 Test: 0.0742, Acc1 Test: 97.51\n",
      "L2: 0.3223, Acc2: 88.65, L2 Test: 0.0865, Acc2 Test: 97.69\n",
      "L3 Test: 1.0908, Acc3 Test: 69.01\n",
      "\n",
      "Epoch: 5\n",
      "L1: 0.0640, Acc1: 97.91, L1 Test: 0.0604, Acc1 Test: 98.03\n",
      "L2: 0.0866, Acc2: 96.93, L2 Test: 0.0761, Acc2 Test: 97.52\n",
      "L3 Test: 1.0190, Acc3 Test: 71.40\n",
      "\n"
     ]
    }
   ],
   "source": [
    "EPOCHS = 5\n",
    "\n",
    "for epoch in range(EPOCHS):\n",
    "    for (source_images, class_labels), (target_images, _) in zip(source_train_dataset, target_train_dataset):\n",
    "        model.train(source_images, class_labels, target_images)\n",
    "\n",
    "    for (test_images, test_labels), (target_images, target_labels) in zip(source_test_dataset, target_train_dataset):\n",
    "        model.test(test_images, test_labels, target_images, target_labels)\n",
    "    \n",
    "    print('Epoch: {}'.format(epoch + 1))\n",
    "    print(model.log())\n",
    "    model.reset_metrics()"
   ]
  },
  {
   "cell_type": "code",
   "execution_count": 20,
   "metadata": {},
   "outputs": [
    {
     "name": "stdout",
     "output_type": "stream",
     "text": [
      "Epoch: 1\n",
      "L1: 0.0516, Acc1: 98.27, L1 Test: 0.0717, Acc1 Test: 97.74\n",
      "L2: 0.0773, Acc2: 97.28, L2 Test: 0.1511, Acc2 Test: 94.83\n",
      "L3 Test: 1.2707, Acc3 Test: 67.92\n",
      "\n",
      "Epoch: 2\n",
      "L1: 0.0463, Acc1: 98.44, L1 Test: 0.0643, Acc1 Test: 97.89\n",
      "L2: 0.0744, Acc2: 97.31, L2 Test: 0.0652, Acc2 Test: 97.78\n",
      "L3 Test: 1.1677, Acc3 Test: 70.73\n",
      "\n",
      "Epoch: 3\n",
      "L1: 0.0426, Acc1: 98.57, L1 Test: 0.1220, Acc1 Test: 96.06\n",
      "L2: 0.0680, Acc2: 97.51, L2 Test: 0.0991, Acc2 Test: 97.09\n",
      "L3 Test: 1.4171, Acc3 Test: 64.55\n",
      "\n",
      "Epoch: 4\n",
      "L1: 0.0428, Acc1: 98.64, L1 Test: 0.1117, Acc1 Test: 96.95\n",
      "L2: 0.0621, Acc2: 97.81, L2 Test: 0.0465, Acc2 Test: 98.47\n",
      "L3 Test: 1.5471, Acc3 Test: 69.21\n",
      "\n",
      "Epoch: 5\n",
      "L1: 0.0485, Acc1: 98.43, L1 Test: 0.0303, Acc1 Test: 99.03\n",
      "L2: 0.0599, Acc2: 97.85, L2 Test: 0.0293, Acc2 Test: 98.98\n",
      "L3 Test: 1.0801, Acc3 Test: 74.97\n",
      "\n"
     ]
    }
   ],
   "source": [
    "EPOCHS = 5\n",
    "\n",
    "for epoch in range(EPOCHS):\n",
    "    for (source_images, class_labels), (target_images, _) in zip(source_train_dataset, target_train_dataset):\n",
    "        model.train(source_images, class_labels, target_images)\n",
    "\n",
    "    for (test_images, test_labels), (target_images, target_labels) in zip(source_test_dataset, target_train_dataset):\n",
    "        model.test(test_images, test_labels, target_images, target_labels)\n",
    "    \n",
    "    print('Epoch: {}'.format(epoch + 1))\n",
    "    print(model.log())\n",
    "    model.reset_metrics()"
   ]
  }
 ],
 "metadata": {
  "kernelspec": {
   "display_name": "Python 3",
   "language": "python",
   "name": "python3"
  },
  "language_info": {
   "codemirror_mode": {
    "name": "ipython",
    "version": 3
   },
   "file_extension": ".py",
   "mimetype": "text/x-python",
   "name": "python",
   "nbconvert_exporter": "python",
   "pygments_lexer": "ipython3",
   "version": "3.6.8"
  }
 },
 "nbformat": 4,
 "nbformat_minor": 2
}

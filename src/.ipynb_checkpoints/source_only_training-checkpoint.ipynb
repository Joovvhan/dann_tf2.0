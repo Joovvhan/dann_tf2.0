{
 "cells": [
  {
   "cell_type": "code",
   "execution_count": 6,
   "metadata": {},
   "outputs": [],
   "source": [
    "from preprocessing import prepare_dataset, prepare_dataset_single\n",
    "from models import DANN_Model\n",
    "import numpy as np"
   ]
  },
  {
   "cell_type": "code",
   "execution_count": 2,
   "metadata": {},
   "outputs": [],
   "source": [
    "(source_train_dataset, source_test_dataset) = prepare_dataset_single('SYN')\n",
    "(_, target_test_dataset_1) = prepare_dataset_single('MNIST')\n",
    "(_, target_test_dataset_2) = prepare_dataset_single('SVHN')"
   ]
  },
  {
   "cell_type": "code",
   "execution_count": 3,
   "metadata": {},
   "outputs": [
    {
     "name": "stdout",
     "output_type": "stream",
     "text": [
      "Log folder created as ../log/so_syn_0\n"
     ]
    }
   ],
   "source": [
    "lp_lr = 0.001\n",
    "dc_lr = 0.0015\n",
    "fe_lr = 0.0015\n",
    "# fe_lr = 0.0000\n",
    "# fe_lr = 0.00\n",
    "# fe_lr = 0.000005\n",
    "\n",
    "lr = (lp_lr, dc_lr, fe_lr)\n",
    "model = DANN_Model(input_shape=(32, 32, 3), model_type='SVHN', run_name='so_syn', lr=lr, source_only=True, category = ('MNIST', 'SVHN'))"
   ]
  },
  {
   "cell_type": "code",
   "execution_count": null,
   "metadata": {},
   "outputs": [],
   "source": []
  },
  {
   "cell_type": "code",
   "execution_count": 23,
   "metadata": {
    "scrolled": false
   },
   "outputs": [
    {
     "ename": "TypeError",
     "evalue": "object of type 'bool' has no len()",
     "output_type": "error",
     "traceback": [
      "\u001b[1;31m---------------------------------------------------------------------------\u001b[0m",
      "\u001b[1;31mTypeError\u001b[0m                                 Traceback (most recent call last)",
      "\u001b[1;32m<ipython-input-23-e76e05d09c83>\u001b[0m in \u001b[0;36m<module>\u001b[1;34m\u001b[0m\n\u001b[0;32m      8\u001b[0m     \u001b[1;32mfor\u001b[0m \u001b[1;33m(\u001b[0m\u001b[0mtest_images\u001b[0m\u001b[1;33m,\u001b[0m \u001b[0mtest_labels\u001b[0m\u001b[1;33m)\u001b[0m \u001b[1;32min\u001b[0m \u001b[0msource_test_dataset\u001b[0m\u001b[1;33m:\u001b[0m\u001b[1;33m\u001b[0m\u001b[1;33m\u001b[0m\u001b[0m\n\u001b[0;32m      9\u001b[0m         \u001b[0mmodel\u001b[0m\u001b[1;33m.\u001b[0m\u001b[0mtest_source_only\u001b[0m\u001b[1;33m(\u001b[0m\u001b[0mtest_images\u001b[0m\u001b[1;33m,\u001b[0m \u001b[0mtest_labels\u001b[0m\u001b[1;33m,\u001b[0m \u001b[1;36m0\u001b[0m\u001b[1;33m)\u001b[0m\u001b[1;33m\u001b[0m\u001b[1;33m\u001b[0m\u001b[0m\n\u001b[1;32m---> 10\u001b[1;33m         \u001b[1;32mif\u001b[0m \u001b[0mlen\u001b[0m\u001b[1;33m(\u001b[0m\u001b[0mlatent_source\u001b[0m \u001b[1;33m==\u001b[0m \u001b[1;36m0\u001b[0m\u001b[1;33m)\u001b[0m\u001b[1;33m:\u001b[0m\u001b[1;33m\u001b[0m\u001b[1;33m\u001b[0m\u001b[0m\n\u001b[0m\u001b[0;32m     11\u001b[0m             \u001b[0mlatent_source\u001b[0m \u001b[1;33m=\u001b[0m \u001b[0mmodel\u001b[0m\u001b[1;33m.\u001b[0m\u001b[0mreturn_latent_variables\u001b[0m\u001b[1;33m(\u001b[0m\u001b[0mtest_images\u001b[0m\u001b[1;33m)\u001b[0m\u001b[1;33m\u001b[0m\u001b[1;33m\u001b[0m\u001b[0m\n\u001b[0;32m     12\u001b[0m         \u001b[1;32melse\u001b[0m\u001b[1;33m:\u001b[0m\u001b[1;33m\u001b[0m\u001b[1;33m\u001b[0m\u001b[0m\n",
      "\u001b[1;31mTypeError\u001b[0m: object of type 'bool' has no len()"
     ]
    }
   ],
   "source": [
    "EPOCHS = 1\n",
    "\n",
    "for epoch in range(EPOCHS):\n",
    "    for (source_images, class_labels) in source_train_dataset:\n",
    "        model.train_source_only(source_images, class_labels)\n",
    "\n",
    "    latent_source = []\n",
    "    for (test_images, test_labels) in source_test_dataset:\n",
    "        model.test_source_only(test_images, test_labels, 0)\n",
    "        if len(latent_source) == 0:\n",
    "            latent_source = model.return_latent_variables(test_images)\n",
    "        else:\n",
    "            latent_source = np.concatenate([latent_source, model.return_latent_variables(test_images)])\n",
    "      \n",
    "    latent_target_1 = []\n",
    "    for (target_images_1, target_labels_1) in target_test_dataset_1:\n",
    "        model.test_source_only(target_images_1, target_labels_1, 1)\n",
    "        if len(latent_target_1) == 0:\n",
    "            latent_target_1 = model.return_latent_variables(target_images_1)\n",
    "        else:\n",
    "            latent_target_1 = np.concatenate([latent_target_1, model.return_latent_variables(target_images_1)])\n",
    "        \n",
    "    latent_target_2 = []\n",
    "    for (target_images_2, target_labels_2) in target_test_dataset_2:\n",
    "        model.test_source_only(target_images_2, target_labels_2, 2)\n",
    "        if len(latent_target_2) == 0:\n",
    "            latent_target_2 = model.return_latent_variables(target_images_2)\n",
    "        else:\n",
    "            latent_target_2 = np.concatenate([latent_target_2, model.return_latent_variables(target_images_2)])\n",
    "    \n",
    "    print('Epoch: {}'.format(epoch + 1))\n",
    "    print(model.log_source_only())"
   ]
  },
  {
   "cell_type": "code",
   "execution_count": 15,
   "metadata": {},
   "outputs": [],
   "source": [
    "x = model.return_latent_variables(test_images).shape"
   ]
  },
  {
   "cell_type": "code",
   "execution_count": 17,
   "metadata": {},
   "outputs": [],
   "source": [
    "import tensorflow as tf"
   ]
  }
 ],
 "metadata": {
  "kernelspec": {
   "display_name": "Python 3",
   "language": "python",
   "name": "python3"
  },
  "language_info": {
   "codemirror_mode": {
    "name": "ipython",
    "version": 3
   },
   "file_extension": ".py",
   "mimetype": "text/x-python",
   "name": "python",
   "nbconvert_exporter": "python",
   "pygments_lexer": "ipython3",
   "version": "3.6.8"
  }
 },
 "nbformat": 4,
 "nbformat_minor": 2
}

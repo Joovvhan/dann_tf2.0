{
 "cells": [
  {
   "cell_type": "code",
   "execution_count": 1,
   "metadata": {},
   "outputs": [],
   "source": [
    "from preprocessing import prepare_dataset\n",
    "from models import DANN_Model"
   ]
  },
  {
   "cell_type": "code",
   "execution_count": 2,
   "metadata": {},
   "outputs": [],
   "source": [
    "(source_train_dataset, source_test_dataset, target_dataset, target_test_dataset) = prepare_dataset('MNIST', 'SYN')"
   ]
  },
  {
   "cell_type": "code",
   "execution_count": 3,
   "metadata": {},
   "outputs": [
    {
     "name": "stdout",
     "output_type": "stream",
     "text": [
      "Log folder created as ../log/m2syn_lr_decay_9\n"
     ]
    }
   ],
   "source": [
    "lp_lr = 0.01\n",
    "dc_lr = 0.01\n",
    "fe_lr = 0.01\n",
    "# fe_lr = 0.000005\n",
    "\n",
    "lr = (lp_lr, dc_lr, fe_lr)\n",
    "model = DANN_Model(input_shape=(32, 32, 3), model_type='SVHN', run_name='m2syn_lr_decay', lr=lr)"
   ]
  },
  {
   "cell_type": "code",
   "execution_count": 4,
   "metadata": {
    "scrolled": false
   },
   "outputs": [
    {
     "name": "stderr",
     "output_type": "stream",
     "text": [
      "WARNING: Logging before flag parsing goes to stderr.\n",
      "W0629 16:02:52.076190 34000 deprecation.py:323] From c:\\users\\jw\\appdata\\local\\programs\\python\\python36\\lib\\site-packages\\tensorflow\\python\\ops\\math_grad.py:1220: add_dispatch_support.<locals>.wrapper (from tensorflow.python.ops.array_ops) is deprecated and will be removed in a future version.\n",
      "Instructions for updating:\n",
      "Use tf.where in 2.0, which has the same broadcast rule as np.where\n"
     ]
    },
    {
     "name": "stdout",
     "output_type": "stream",
     "text": [
      "Epoch: 1\n",
      "L1 Test: 5.0063, Acc1 Test: 46.83\n",
      "L2 Test: 0.6931, Acc2 Test: 50.40\n",
      "L3 Test: 11.7240, Acc3 Test: 15.97\n",
      "\n",
      "<tf.Variable 'Adam/learning_rate:0' shape=() dtype=float32, numpy=0.001>\n",
      "Epoch: 2\n",
      "L1 Test: 0.0866, Acc1 Test: 97.27\n",
      "L2 Test: 0.5314, Acc2 Test: 50.40\n",
      "L3 Test: 7.9981, Acc3 Test: 16.46\n",
      "\n",
      "<tf.Variable 'Adam/learning_rate:0' shape=() dtype=float32, numpy=0.001>\n",
      "Epoch: 3\n",
      "L1 Test: 0.4916, Acc1 Test: 86.10\n",
      "L2 Test: 0.6064, Acc2 Test: 49.31\n",
      "L3 Test: 7.2470, Acc3 Test: 17.55\n",
      "\n",
      "<tf.Variable 'Adam/learning_rate:0' shape=() dtype=float32, numpy=0.001>\n",
      "Epoch: 4\n",
      "L1 Test: 0.1323, Acc1 Test: 95.65\n",
      "L2 Test: 0.4468, Acc2 Test: 76.33\n",
      "L3 Test: 4.4600, Acc3 Test: 27.40\n",
      "\n",
      "<tf.Variable 'Adam/learning_rate:0' shape=() dtype=float32, numpy=0.001>\n",
      "Epoch: 5\n",
      "L1 Test: 0.2785, Acc1 Test: 91.67\n",
      "L2 Test: 0.8863, Acc2 Test: 9.97\n",
      "L3 Test: 4.0330, Acc3 Test: 30.17\n",
      "\n",
      "<tf.Variable 'Adam/learning_rate:0' shape=() dtype=float32, numpy=0.001>\n"
     ]
    }
   ],
   "source": [
    "EPOCHS = 5\n",
    "\n",
    "for epoch in range(EPOCHS):\n",
    "    for (source_images, class_labels), (target_images, _) in zip(source_train_dataset, target_dataset):\n",
    "        model.train(source_images, class_labels, target_images)\n",
    "\n",
    "    for (test_images, test_labels), (target_test_images, _), (target_images, target_labels) in zip(source_test_dataset, target_test_dataset, target_dataset):\n",
    "        model.test_source(test_images, test_labels, target_test_images)\n",
    "        model.test_target(target_images, target_labels)\n",
    "    \n",
    "    print('Epoch: {}'.format(epoch + 1))\n",
    "    print(model.log())"
   ]
  },
  {
   "cell_type": "code",
   "execution_count": 5,
   "metadata": {},
   "outputs": [
    {
     "name": "stdout",
     "output_type": "stream",
     "text": [
      "Epoch: 1\n",
      "L1 Test: 0.6601, Acc1 Test: 84.82\n",
      "L2 Test: 0.6931, Acc2 Test: 47.79\n",
      "L3 Test: 13.6245, Acc3 Test: 12.88\n",
      "\n",
      "Epoch: 2\n",
      "L1 Test: 0.5390, Acc1 Test: 81.28\n",
      "L2 Test: 0.6909, Acc2 Test: 47.88\n",
      "L3 Test: 6.0123, Acc3 Test: 21.64\n",
      "\n",
      "Epoch: 3\n",
      "L1 Test: 0.0760, Acc1 Test: 97.62\n",
      "L2 Test: 0.6906, Acc2 Test: 70.25\n",
      "L3 Test: 3.5417, Acc3 Test: 30.18\n",
      "\n",
      "Epoch: 4\n",
      "L1 Test: 0.1331, Acc1 Test: 95.62\n",
      "L2 Test: 0.6077, Acc2 Test: 86.85\n",
      "L3 Test: 2.8149, Acc3 Test: 31.00\n",
      "\n",
      "Epoch: 5\n",
      "L1 Test: 0.2755, Acc1 Test: 90.52\n",
      "L2 Test: 0.7162, Acc2 Test: 32.48\n",
      "L3 Test: 5.1937, Acc3 Test: 16.34\n",
      "\n",
      "Epoch: 6\n",
      "L1 Test: 0.4250, Acc1 Test: 87.38\n",
      "L2 Test: 0.5324, Acc2 Test: 72.66\n",
      "L3 Test: 3.6083, Acc3 Test: 30.77\n",
      "\n",
      "Epoch: 7\n",
      "L1 Test: 0.0612, Acc1 Test: 98.05\n",
      "L2 Test: 5.3012, Acc2 Test: 51.03\n",
      "L3 Test: 5.3800, Acc3 Test: 30.91\n",
      "\n",
      "Epoch: 8\n",
      "L1 Test: 0.0546, Acc1 Test: 98.27\n",
      "L2 Test: 0.5634, Acc2 Test: 70.80\n",
      "L3 Test: 3.8540, Acc3 Test: 36.48\n",
      "\n",
      "Epoch: 9\n",
      "L1 Test: 0.1132, Acc1 Test: 96.10\n",
      "L2 Test: 2.9476, Acc2 Test: 54.16\n",
      "L3 Test: 3.5738, Acc3 Test: 31.78\n",
      "\n",
      "Epoch: 10\n",
      "L1 Test: 0.2660, Acc1 Test: 90.60\n",
      "L2 Test: 0.7013, Acc2 Test: 46.61\n",
      "L3 Test: 6.5018, Acc3 Test: 23.86\n",
      "\n",
      "Epoch: 11\n",
      "L1 Test: 0.0630, Acc1 Test: 98.07\n",
      "L2 Test: 0.3812, Acc2 Test: 86.23\n",
      "L3 Test: 3.2269, Acc3 Test: 34.16\n",
      "\n",
      "Epoch: 12\n",
      "L1 Test: 0.0412, Acc1 Test: 98.55\n",
      "L2 Test: 0.1938, Acc2 Test: 92.17\n",
      "L3 Test: 3.4078, Acc3 Test: 37.44\n",
      "\n",
      "Epoch: 13\n",
      "L1 Test: 0.0654, Acc1 Test: 97.62\n",
      "L2 Test: 0.9486, Acc2 Test: 63.46\n",
      "L3 Test: 3.4195, Acc3 Test: 35.05\n",
      "\n",
      "Epoch: 14\n",
      "L1 Test: 0.0582, Acc1 Test: 98.05\n",
      "L2 Test: 1.0956, Acc2 Test: 67.69\n",
      "L3 Test: 3.4309, Acc3 Test: 34.83\n",
      "\n",
      "Epoch: 15\n",
      "L1 Test: 0.6286, Acc1 Test: 83.85\n",
      "L2 Test: 1.2663, Acc2 Test: 71.22\n",
      "L3 Test: 13.3112, Acc3 Test: 17.38\n",
      "\n"
     ]
    }
   ],
   "source": [
    "EPOCHS = 15\n",
    "\n",
    "for epoch in range(EPOCHS):\n",
    "    for (source_images, class_labels), (target_images, _) in zip(source_train_dataset, target_dataset):\n",
    "        model.train(source_images, class_labels, target_images)\n",
    "\n",
    "    for (test_images, test_labels), (target_test_images, _), (target_images, target_labels) in zip(source_test_dataset, target_test_dataset, target_dataset):\n",
    "        model.test_source(test_images, test_labels, target_test_images)\n",
    "        model.test_target(target_images, target_labels)\n",
    "    \n",
    "    print('Epoch: {}'.format(epoch + 1))\n",
    "    print(model.log())"
   ]
  },
  {
   "cell_type": "code",
   "execution_count": 6,
   "metadata": {
    "scrolled": false
   },
   "outputs": [
    {
     "name": "stdout",
     "output_type": "stream",
     "text": [
      "Epoch: 1\n",
      "L1 Test: 0.0353, Acc1 Test: 98.98\n",
      "L2 Test: 0.3207, Acc2 Test: 84.67\n",
      "L3 Test: 4.6300, Acc3 Test: 32.40\n",
      "\n",
      "Epoch: 2\n",
      "L1 Test: 0.0459, Acc1 Test: 98.48\n",
      "L2 Test: 2.0712, Acc2 Test: 50.02\n",
      "L3 Test: 3.7648, Acc3 Test: 38.48\n",
      "\n",
      "Epoch: 3\n",
      "L1 Test: 0.0259, Acc1 Test: 99.20\n",
      "L2 Test: 0.4380, Acc2 Test: 50.80\n",
      "L3 Test: 9.8162, Acc3 Test: 22.26\n",
      "\n",
      "Epoch: 4\n",
      "L1 Test: 0.0606, Acc1 Test: 98.05\n",
      "L2 Test: 0.3222, Acc2 Test: 87.03\n",
      "L3 Test: 4.2229, Acc3 Test: 29.32\n",
      "\n",
      "Epoch: 5\n",
      "L1 Test: 0.0629, Acc1 Test: 98.02\n",
      "L2 Test: 2.0532, Acc2 Test: 51.79\n",
      "L3 Test: 3.0883, Acc3 Test: 40.93\n",
      "\n",
      "Epoch: 6\n",
      "L1 Test: 0.0413, Acc1 Test: 98.63\n",
      "L2 Test: 0.1214, Acc2 Test: 97.72\n",
      "L3 Test: 2.8362, Acc3 Test: 41.51\n",
      "\n",
      "Epoch: 7\n",
      "L1 Test: 0.0300, Acc1 Test: 99.02\n",
      "L2 Test: 1.1095, Acc2 Test: 65.43\n",
      "L3 Test: 3.9695, Acc3 Test: 35.46\n",
      "\n",
      "Epoch: 8\n",
      "L1 Test: 0.0231, Acc1 Test: 99.30\n",
      "L2 Test: 0.1155, Acc2 Test: 95.92\n",
      "L3 Test: 3.8459, Acc3 Test: 42.78\n",
      "\n",
      "Epoch: 9\n",
      "L1 Test: 0.8795, Acc1 Test: 78.17\n",
      "L2 Test: 6.9529, Acc2 Test: 50.11\n",
      "L3 Test: 3.2642, Acc3 Test: 35.21\n",
      "\n",
      "Epoch: 10\n",
      "L1 Test: 0.0339, Acc1 Test: 99.00\n",
      "L2 Test: 1.6614, Acc2 Test: 54.75\n",
      "L3 Test: 3.3559, Acc3 Test: 43.53\n",
      "\n",
      "Epoch: 11\n",
      "L1 Test: 0.0285, Acc1 Test: 99.05\n",
      "L2 Test: 0.1309, Acc2 Test: 94.95\n",
      "L3 Test: 3.0728, Acc3 Test: 43.66\n",
      "\n",
      "Epoch: 12\n",
      "L1 Test: 0.0317, Acc1 Test: 98.98\n",
      "L2 Test: 2.0006, Acc2 Test: 52.11\n",
      "L3 Test: 3.4639, Acc3 Test: 38.76\n",
      "\n",
      "Epoch: 13\n",
      "L1 Test: 0.0229, Acc1 Test: 99.25\n",
      "L2 Test: 0.3794, Acc2 Test: 83.57\n",
      "L3 Test: 5.2040, Acc3 Test: 39.68\n",
      "\n",
      "Epoch: 14\n",
      "L1 Test: 0.0345, Acc1 Test: 98.92\n",
      "L2 Test: 3.3072, Acc2 Test: 50.36\n",
      "L3 Test: 4.4980, Acc3 Test: 42.93\n",
      "\n",
      "Epoch: 15\n",
      "L1 Test: 0.0241, Acc1 Test: 99.22\n",
      "L2 Test: 0.7620, Acc2 Test: 72.84\n",
      "L3 Test: 4.7994, Acc3 Test: 40.26\n",
      "\n"
     ]
    }
   ],
   "source": [
    "EPOCHS = 15\n",
    "\n",
    "for epoch in range(EPOCHS):\n",
    "    for (source_images, class_labels), (target_images, _) in zip(source_train_dataset, target_dataset):\n",
    "        model.train(source_images, class_labels, target_images)\n",
    "\n",
    "    for (test_images, test_labels), (target_test_images, _), (target_images, target_labels) in zip(source_test_dataset, target_test_dataset, target_dataset):\n",
    "        model.test_source(test_images, test_labels, target_test_images)\n",
    "        model.test_target(target_images, target_labels)\n",
    "    \n",
    "    print('Epoch: {}'.format(epoch + 1))\n",
    "    print(model.log())"
   ]
  }
 ],
 "metadata": {
  "kernelspec": {
   "display_name": "Python 3",
   "language": "python",
   "name": "python3"
  },
  "language_info": {
   "codemirror_mode": {
    "name": "ipython",
    "version": 3
   },
   "file_extension": ".py",
   "mimetype": "text/x-python",
   "name": "python",
   "nbconvert_exporter": "python",
   "pygments_lexer": "ipython3",
   "version": "3.6.8"
  }
 },
 "nbformat": 4,
 "nbformat_minor": 2
}

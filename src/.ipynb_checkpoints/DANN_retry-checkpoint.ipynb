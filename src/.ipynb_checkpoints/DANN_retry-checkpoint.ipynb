{
 "cells": [
  {
   "cell_type": "code",
   "execution_count": 34,
   "metadata": {},
   "outputs": [],
   "source": [
    "import tensorflow as tf\n",
    "import numpy as np"
   ]
  },
  {
   "cell_type": "code",
   "execution_count": 51,
   "metadata": {},
   "outputs": [],
   "source": [
    "class MNIST():\n",
    "    def __init__(self, input_shape):\n",
    "        super(MNIST, self).__init__()\n",
    "        self.feature_extractor = tf.keras.models.Sequential([\n",
    "            tf.keras.layers.Conv2D(filters=32, kernel_size=5,\n",
    "                                   strides=1, input_shape=input_shape),\n",
    "            tf.keras.layers.BatchNormalization(),\n",
    "            tf.keras.layers.Activation('relu'),\n",
    "            tf.keras.layers.MaxPooling2D(pool_size=2, strides=2),\n",
    "            tf.keras.layers.Conv2D(filters=48, kernel_size=5, strides=1),\n",
    "            tf.keras.layers.BatchNormalization(),\n",
    "            tf.keras.layers.Activation('relu'),\n",
    "            tf.keras.layers.MaxPooling2D(pool_size=2, strides=2),\n",
    "            tf.keras.layers.Flatten()            \n",
    "        ])\n",
    "        \n",
    "        self.label_predictor = tf.keras.models.Sequential([\n",
    "            tf.keras.layers.Dense(100),\n",
    "            tf.keras.layers.BatchNormalization(),\n",
    "            tf.keras.layers.Activation('relu'),\n",
    "            tf.keras.layers.Dense(100),\n",
    "            tf.keras.layers.BatchNormalization(),\n",
    "            tf.keras.layers.Activation('relu'),\n",
    "            tf.keras.layers.Dense(10, activation='softmax')\n",
    "        ])\n",
    "        self.domain_predictor = tf.keras.models.Sequential([\n",
    "            tf.keras.layers.Dense(100),\n",
    "            tf.keras.layers.BatchNormalization(),\n",
    "            tf.keras.layers.Activation('relu'),\n",
    "            tf.keras.layers.Dense(1),\n",
    "            tf.keras.layers.Activation('sigmoid')          \n",
    "        ])\n",
    "        self.path_1 = tf.keras.models.Sequential([\n",
    "            self.feature_extractor,\n",
    "            self.label_predictor\n",
    "        ])\n",
    "        self.path_2 = tf.keras.models.Sequential([\n",
    "            self.feature_extractor,\n",
    "            self.label_predictor\n",
    "        ])\n",
    "        \n",
    "        \n",
    "        self.loss = tf.keras.losses.SparseCategoricalCrossentropy()\n",
    "        self.loss_2 = tf.keras.losses.SparseCategoricalCrossentropy()\n",
    "        \n",
    "        self.optimizer = tf.keras.optimizers.Adam()\n",
    "        \n",
    "        self.train_loss = tf.keras.metrics.Mean()\n",
    "        self.train_loss_2 = tf.keras.metrics.Mean()\n",
    "        \n",
    "        self.train_accuracy = tf.keras.metrics.SparseCategoricalAccuracy()\n",
    "        self.train_accuracy_2 = tf.keras.metrics.SparseCategoricalAccuracy()\n",
    "        \n",
    "        \n",
    "        self.test_loss = tf.keras.metrics.Mean()\n",
    "        self.test_loss_2 = tf.keras.metrics.Mean()\n",
    "        self.test_accuracy = tf.keras.metrics.SparseCategoricalAccuracy()\n",
    "        self.test_accuracy_2 = tf.keras.metrics.SparseCategoricalAccuracy()\n",
    "\n",
    "    @tf.function\n",
    "    def train(self, x_train, y_train):\n",
    "        with tf.GradientTape() as tape:\n",
    "            y_pred = self.path_1(x_train)\n",
    "            loss = self.loss(y_train, y_pred)\n",
    "        gradients = tape.gradient(loss, self.path_1.trainable_variables)\n",
    "        self.optimizer.apply_gradients(zip(gradients, self.path_1.trainable_variables))\n",
    "\n",
    "        self.train_loss(loss)\n",
    "        self.train_accuracy(y_train, y_pred)\n",
    "        \n",
    "        return\n",
    "    \n",
    "    @tf.function\n",
    "    def train_2(self, x_train, y_train):\n",
    "        with tf.GradientTape() as tape:\n",
    "            y_pred = self.path_2(x_train)\n",
    "            loss = self.loss_2(y_train, y_pred)\n",
    "        gradients = tape.gradient(loss, self.path_2.trainable_variables)\n",
    "        self.optimizer.apply_gradients(zip(gradients, self.path_2.trainable_variables))\n",
    "\n",
    "        self.train_loss_2(loss)\n",
    "        self.train_accuracy_2(y_train, y_pred)\n",
    "        \n",
    "        return\n",
    "    \n",
    "    @tf.function\n",
    "    def test(self, x_test, y_test):\n",
    "        y_pred = self.path_1(x_test)\n",
    "        loss = self.loss(y_test, y_pred)\n",
    "\n",
    "        self.test_loss(loss)\n",
    "        self.test_accuracy(y_test, y_pred)\n",
    "        \n",
    "    @tf.function\n",
    "    def test_2(self, x_test, y_test):\n",
    "        y_pred = self.path_2(x_test)\n",
    "        loss = self.loss_2(y_test, y_pred)\n",
    "\n",
    "        self.test_loss_2(loss)\n",
    "        self.test_accuracy_2(y_test, y_pred)"
   ]
  },
  {
   "cell_type": "code",
   "execution_count": 3,
   "metadata": {},
   "outputs": [],
   "source": [
    "mnist = tf.keras.datasets.mnist\n",
    "\n",
    "(x_train, y_train), (x_test, y_test) = mnist.load_data()\n",
    "x_train, x_test = x_train / 255.0, x_test / 255.0\n",
    "\n",
    "x_train = x_train[..., tf.newaxis]\n",
    "x_test = x_test[..., tf.newaxis]"
   ]
  },
  {
   "cell_type": "code",
   "execution_count": 4,
   "metadata": {},
   "outputs": [],
   "source": [
    "x_train = x_train - 0.5\n",
    "x_test = x_test - 0.5"
   ]
  },
  {
   "cell_type": "code",
   "execution_count": 5,
   "metadata": {},
   "outputs": [],
   "source": [
    "x_train = tf.cast(x_train, tf.float32)\n",
    "x_test = tf.cast(x_test, tf.float32)\n",
    "y_train = tf.cast(y_train, tf.float32)\n",
    "y_test = tf.cast(y_test, tf.float32)"
   ]
  },
  {
   "cell_type": "code",
   "execution_count": 32,
   "metadata": {},
   "outputs": [],
   "source": [
    "x_train_2 = tf.concat([x_train, x_train + tf.random.normal(x_train.shape, mean=0.0, stddev=.1)], axis=0)\n",
    "x_test_2 = tf.concat([x_test, x_test + tf.random.normal(x_test.shape, mean=0.0, stddev=.1)], axis=0)"
   ]
  },
  {
   "cell_type": "code",
   "execution_count": 40,
   "metadata": {},
   "outputs": [],
   "source": [
    "y_train_2 = tf.concat([np.zeros(len(x_train)), np.ones(len(x_train))], axis=0)\n",
    "y_test_2 = tf.concat([np.zeros(len(x_test)), np.ones(len(x_test))], axis=0)"
   ]
  },
  {
   "cell_type": "code",
   "execution_count": 9,
   "metadata": {},
   "outputs": [],
   "source": [
    "train_ds = tf.data.Dataset.from_tensor_slices(\n",
    "    (x_train, y_train)).shuffle(len(x_train)).batch(1000)\n",
    "test_ds = tf.data.Dataset.from_tensor_slices((x_test, y_test)).batch(1000)"
   ]
  },
  {
   "cell_type": "code",
   "execution_count": 43,
   "metadata": {},
   "outputs": [],
   "source": [
    "train_ds_2 = tf.data.Dataset.from_tensor_slices(\n",
    "    (x_train_2, y_train_2)).shuffle(len(x_train_2)).batch(2000)\n",
    "test_ds_2 = tf.data.Dataset.from_tensor_slices((x_test_2, y_test_2)).batch(2000)"
   ]
  },
  {
   "cell_type": "code",
   "execution_count": 52,
   "metadata": {},
   "outputs": [],
   "source": [
    "model = MNIST(input_shape=(28, 28, 1))"
   ]
  },
  {
   "cell_type": "code",
   "execution_count": 10,
   "metadata": {
    "scrolled": false
   },
   "outputs": [
    {
     "name": "stdout",
     "output_type": "stream",
     "text": [
      "에포크: 1, 손실: 0.04913996532559395, 정확도: 98.6513900756836, 테스트 손실: 0.03934966400265694, 테스트 정확도: 98.88333129882812\n",
      "에포크: 2, 손실: 0.048862822353839874, 정확도: 98.82357025146484, 테스트 손실: 0.03925415873527527, 테스트 정확도: 98.9385757446289\n",
      "에포크: 3, 손실: 0.04858255386352539, 정확도: 98.95770263671875, 테스트 손실: 0.039157550781965256, 테스트 정확도: 98.97875213623047\n",
      "에포크: 4, 손실: 0.04830179363489151, 정확도: 99.06388854980469, 테스트 손실: 0.03906082361936569, 테스트 정확도: 99.0111083984375\n",
      "에포크: 5, 손실: 0.048021625727415085, 정확도: 99.15050506591797, 테스트 손실: 0.038964904844760895, 테스트 정확도: 99.03800201416016\n"
     ]
    }
   ],
   "source": [
    "EPOCHS = 5\n",
    "\n",
    "for epoch in range(EPOCHS):\n",
    "    for images, labels in train_ds:\n",
    "        model.train(images, labels)\n",
    "\n",
    "    for test_images, test_labels in test_ds:\n",
    "        model.test(test_images, test_labels)\n",
    "\n",
    "    template = '에포크: {}, 손실: {}, 정확도: {}, 테스트 손실: {}, 테스트 정확도: {}'\n",
    "    print(template.format(epoch+1,\n",
    "                         model.train_loss.result(),\n",
    "                         model.train_accuracy.result()*100,\n",
    "                         model.test_loss.result(),\n",
    "                         model.test_accuracy.result()*100))"
   ]
  },
  {
   "cell_type": "code",
   "execution_count": 75,
   "metadata": {},
   "outputs": [
    {
     "name": "stdout",
     "output_type": "stream",
     "text": [
      "Epoch: 1\n",
      "L1: 0.5665, Acc1: 70.70, L1 Test: 0.4853, Acc1 Test: 91.05\n",
      "L2: 0.5107, Acc2: 56.74, L2 Test: 0.5309, Acc2 Test: 58.03\n",
      "Epoch: 2\n",
      "L1: 0.5619, Acc1: 71.26, L1 Test: 0.4815, Acc1 Test: 91.31\n",
      "L2: 0.5104, Acc2: 56.69, L2 Test: 0.5292, Acc2 Test: 57.96\n",
      "Epoch: 3\n",
      "L1: 0.5574, Acc1: 71.80, L1 Test: 0.4780, Acc1 Test: 91.55\n",
      "L2: 0.5100, Acc2: 56.65, L2 Test: 0.5278, Acc2 Test: 57.89\n",
      "Epoch: 4\n",
      "L1: 0.5670, Acc1: 72.21, L1 Test: 0.5172, Acc1 Test: 89.44\n",
      "L2: 0.5278, Acc2: 56.32, L2 Test: 0.5650, Acc2 Test: 56.68\n",
      "Epoch: 5\n",
      "L1: 0.5745, Acc1: 72.36, L1 Test: 0.5260, Acc1 Test: 89.40\n",
      "L2: 0.6057, Acc2: 52.62, L2 Test: 0.5958, Acc2 Test: 54.93\n",
      "Epoch: 6\n",
      "L1: 0.5785, Acc1: 72.70, L1 Test: 0.5329, Acc1 Test: 89.35\n",
      "L2: 0.6638, Acc2: 49.42, L2 Test: 0.6159, Acc2 Test: 53.88\n",
      "Epoch: 7\n",
      "L1: 0.5783, Acc1: 72.97, L1 Test: 0.5309, Acc1 Test: 89.44\n",
      "L2: 0.6686, Acc2: 49.70, L2 Test: 0.6156, Acc2 Test: 54.01\n",
      "Epoch: 8\n",
      "L1: 0.5753, Acc1: 73.34, L1 Test: 0.5270, Acc1 Test: 89.62\n",
      "L2: 0.6586, Acc2: 50.33, L2 Test: 0.6120, Acc2 Test: 54.15\n",
      "Epoch: 9\n",
      "L1: 0.5721, Acc1: 73.73, L1 Test: 0.5234, Acc1 Test: 89.80\n",
      "L2: 0.6489, Acc2: 50.84, L2 Test: 0.6083, Acc2 Test: 54.28\n",
      "Epoch: 10\n",
      "L1: 0.5688, Acc1: 74.12, L1 Test: 0.5198, Acc1 Test: 89.98\n",
      "L2: 0.6400, Acc2: 51.25, L2 Test: 0.6047, Acc2 Test: 54.38\n",
      "Epoch: 11\n",
      "L1: 0.5656, Acc1: 74.50, L1 Test: 0.5163, Acc1 Test: 90.17\n",
      "L2: 0.6321, Acc2: 51.60, L2 Test: 0.6012, Acc2 Test: 54.47\n",
      "Epoch: 12\n",
      "L1: 0.5624, Acc1: 74.88, L1 Test: 0.5130, Acc1 Test: 90.36\n",
      "L2: 0.6250, Acc2: 51.90, L2 Test: 0.5980, Acc2 Test: 54.55\n",
      "Epoch: 13\n",
      "L1: 0.5592, Acc1: 75.25, L1 Test: 0.5098, Acc1 Test: 90.55\n",
      "L2: 0.6186, Acc2: 52.16, L2 Test: 0.5950, Acc2 Test: 54.62\n",
      "Epoch: 14\n",
      "L1: 0.5561, Acc1: 75.62, L1 Test: 0.5068, Acc1 Test: 90.73\n",
      "L2: 0.6128, Acc2: 52.39, L2 Test: 0.5920, Acc2 Test: 54.68\n",
      "Epoch: 15\n",
      "L1: 0.5531, Acc1: 75.97, L1 Test: 0.5039, Acc1 Test: 90.91\n",
      "L2: 0.6075, Acc2: 52.58, L2 Test: 0.5893, Acc2 Test: 54.74\n",
      "Epoch: 16\n",
      "L1: 0.5502, Acc1: 76.32, L1 Test: 0.5012, Acc1 Test: 91.07\n",
      "L2: 0.6027, Acc2: 52.76, L2 Test: 0.5866, Acc2 Test: 54.79\n",
      "Epoch: 17\n",
      "L1: 0.5473, Acc1: 76.65, L1 Test: 0.4986, Acc1 Test: 91.23\n",
      "L2: 0.5983, Acc2: 52.92, L2 Test: 0.5840, Acc2 Test: 54.83\n",
      "Epoch: 18\n",
      "L1: 0.5445, Acc1: 76.98, L1 Test: 0.4961, Acc1 Test: 91.38\n",
      "L2: 0.5943, Acc2: 53.05, L2 Test: 0.5816, Acc2 Test: 54.88\n",
      "Epoch: 19\n",
      "L1: 0.5418, Acc1: 77.30, L1 Test: 0.4937, Acc1 Test: 91.53\n",
      "L2: 0.5905, Acc2: 53.18, L2 Test: 0.5793, Acc2 Test: 54.91\n",
      "Epoch: 20\n",
      "L1: 0.5391, Acc1: 77.62, L1 Test: 0.4915, Acc1 Test: 91.68\n",
      "L2: 0.5871, Acc2: 53.29, L2 Test: 0.5772, Acc2 Test: 54.95\n",
      "Epoch: 21\n",
      "L1: 0.5365, Acc1: 77.92, L1 Test: 0.4893, Acc1 Test: 91.82\n",
      "L2: 0.5839, Acc2: 53.40, L2 Test: 0.5751, Acc2 Test: 54.98\n",
      "Epoch: 22\n",
      "L1: 0.5340, Acc1: 78.22, L1 Test: 0.4872, Acc1 Test: 91.94\n",
      "L2: 0.5810, Acc2: 53.49, L2 Test: 0.5731, Acc2 Test: 55.01\n",
      "Epoch: 23\n",
      "L1: 0.5316, Acc1: 78.51, L1 Test: 0.4853, Acc1 Test: 92.07\n",
      "L2: 0.5782, Acc2: 53.58, L2 Test: 0.5712, Acc2 Test: 55.04\n",
      "Epoch: 24\n",
      "L1: 0.5292, Acc1: 78.79, L1 Test: 0.4833, Acc1 Test: 92.20\n",
      "L2: 0.5756, Acc2: 53.66, L2 Test: 0.5693, Acc2 Test: 55.06\n"
     ]
    },
    {
     "ename": "KeyboardInterrupt",
     "evalue": "",
     "output_type": "error",
     "traceback": [
      "\u001b[1;31m---------------------------------------------------------------------------\u001b[0m",
      "\u001b[1;31mKeyboardInterrupt\u001b[0m                         Traceback (most recent call last)",
      "\u001b[1;32m<ipython-input-75-a75a3751fe20>\u001b[0m in \u001b[0;36m<module>\u001b[1;34m\u001b[0m\n\u001b[0;32m      4\u001b[0m     \u001b[1;32mfor\u001b[0m \u001b[1;33m(\u001b[0m\u001b[0mimages\u001b[0m\u001b[1;33m,\u001b[0m \u001b[0mlabels\u001b[0m\u001b[1;33m)\u001b[0m\u001b[1;33m,\u001b[0m \u001b[1;33m(\u001b[0m\u001b[0mimages_2\u001b[0m\u001b[1;33m,\u001b[0m \u001b[0mlabels_2\u001b[0m\u001b[1;33m)\u001b[0m \u001b[1;32min\u001b[0m \u001b[0mzip\u001b[0m\u001b[1;33m(\u001b[0m\u001b[0mtrain_ds\u001b[0m\u001b[1;33m,\u001b[0m \u001b[0mtrain_ds_2\u001b[0m\u001b[1;33m)\u001b[0m\u001b[1;33m:\u001b[0m\u001b[1;33m\u001b[0m\u001b[1;33m\u001b[0m\u001b[0m\n\u001b[0;32m      5\u001b[0m         \u001b[0mmodel\u001b[0m\u001b[1;33m.\u001b[0m\u001b[0mtrain\u001b[0m\u001b[1;33m(\u001b[0m\u001b[0mimages\u001b[0m\u001b[1;33m,\u001b[0m \u001b[0mlabels\u001b[0m\u001b[1;33m)\u001b[0m\u001b[1;33m\u001b[0m\u001b[1;33m\u001b[0m\u001b[0m\n\u001b[1;32m----> 6\u001b[1;33m         \u001b[0mmodel\u001b[0m\u001b[1;33m.\u001b[0m\u001b[0mtrain_2\u001b[0m\u001b[1;33m(\u001b[0m\u001b[0mimages_2\u001b[0m\u001b[1;33m,\u001b[0m \u001b[0mlabels_2\u001b[0m\u001b[1;33m)\u001b[0m\u001b[1;33m\u001b[0m\u001b[1;33m\u001b[0m\u001b[0m\n\u001b[0m\u001b[0;32m      7\u001b[0m \u001b[1;33m\u001b[0m\u001b[0m\n\u001b[0;32m      8\u001b[0m     \u001b[1;32mfor\u001b[0m \u001b[1;33m(\u001b[0m\u001b[0mtest_images\u001b[0m\u001b[1;33m,\u001b[0m \u001b[0mtest_labels\u001b[0m\u001b[1;33m)\u001b[0m\u001b[1;33m,\u001b[0m \u001b[1;33m(\u001b[0m\u001b[0mtest_images_2\u001b[0m\u001b[1;33m,\u001b[0m \u001b[0mtest_labels_2\u001b[0m\u001b[1;33m)\u001b[0m \u001b[1;32min\u001b[0m \u001b[0mzip\u001b[0m\u001b[1;33m(\u001b[0m\u001b[0mtest_ds\u001b[0m\u001b[1;33m,\u001b[0m \u001b[0mtest_ds_2\u001b[0m\u001b[1;33m)\u001b[0m\u001b[1;33m:\u001b[0m\u001b[1;33m\u001b[0m\u001b[1;33m\u001b[0m\u001b[0m\n",
      "\u001b[1;32mc:\\users\\jw\\appdata\\local\\programs\\python\\python36\\lib\\site-packages\\tensorflow\\python\\eager\\def_function.py\u001b[0m in \u001b[0;36m__call__\u001b[1;34m(self, *args, **kwds)\u001b[0m\n\u001b[0;32m    406\u001b[0m       \u001b[1;31m# In this case we have not created variables on the first call. So we can\u001b[0m\u001b[1;33m\u001b[0m\u001b[1;33m\u001b[0m\u001b[1;33m\u001b[0m\u001b[0m\n\u001b[0;32m    407\u001b[0m       \u001b[1;31m# run the first trace but we should fail if variables are created.\u001b[0m\u001b[1;33m\u001b[0m\u001b[1;33m\u001b[0m\u001b[1;33m\u001b[0m\u001b[0m\n\u001b[1;32m--> 408\u001b[1;33m       \u001b[0mresults\u001b[0m \u001b[1;33m=\u001b[0m \u001b[0mself\u001b[0m\u001b[1;33m.\u001b[0m\u001b[0m_stateful_fn\u001b[0m\u001b[1;33m(\u001b[0m\u001b[1;33m*\u001b[0m\u001b[0margs\u001b[0m\u001b[1;33m,\u001b[0m \u001b[1;33m**\u001b[0m\u001b[0mkwds\u001b[0m\u001b[1;33m)\u001b[0m\u001b[1;33m\u001b[0m\u001b[1;33m\u001b[0m\u001b[0m\n\u001b[0m\u001b[0;32m    409\u001b[0m       \u001b[1;32mif\u001b[0m \u001b[0mself\u001b[0m\u001b[1;33m.\u001b[0m\u001b[0m_created_variables\u001b[0m\u001b[1;33m:\u001b[0m\u001b[1;33m\u001b[0m\u001b[1;33m\u001b[0m\u001b[0m\n\u001b[0;32m    410\u001b[0m         raise ValueError(\"Creating variables on a non-first call to a function\"\n",
      "\u001b[1;32mc:\\users\\jw\\appdata\\local\\programs\\python\\python36\\lib\\site-packages\\tensorflow\\python\\eager\\function.py\u001b[0m in \u001b[0;36m__call__\u001b[1;34m(self, *args, **kwargs)\u001b[0m\n\u001b[0;32m   1333\u001b[0m     \u001b[1;34m\"\"\"Calls a graph function specialized to the inputs.\"\"\"\u001b[0m\u001b[1;33m\u001b[0m\u001b[1;33m\u001b[0m\u001b[0m\n\u001b[0;32m   1334\u001b[0m     \u001b[0mgraph_function\u001b[0m\u001b[1;33m,\u001b[0m \u001b[0margs\u001b[0m\u001b[1;33m,\u001b[0m \u001b[0mkwargs\u001b[0m \u001b[1;33m=\u001b[0m \u001b[0mself\u001b[0m\u001b[1;33m.\u001b[0m\u001b[0m_maybe_define_function\u001b[0m\u001b[1;33m(\u001b[0m\u001b[0margs\u001b[0m\u001b[1;33m,\u001b[0m \u001b[0mkwargs\u001b[0m\u001b[1;33m)\u001b[0m\u001b[1;33m\u001b[0m\u001b[1;33m\u001b[0m\u001b[0m\n\u001b[1;32m-> 1335\u001b[1;33m     \u001b[1;32mreturn\u001b[0m \u001b[0mgraph_function\u001b[0m\u001b[1;33m.\u001b[0m\u001b[0m_filtered_call\u001b[0m\u001b[1;33m(\u001b[0m\u001b[0margs\u001b[0m\u001b[1;33m,\u001b[0m \u001b[0mkwargs\u001b[0m\u001b[1;33m)\u001b[0m  \u001b[1;31m# pylint: disable=protected-access\u001b[0m\u001b[1;33m\u001b[0m\u001b[1;33m\u001b[0m\u001b[0m\n\u001b[0m\u001b[0;32m   1336\u001b[0m \u001b[1;33m\u001b[0m\u001b[0m\n\u001b[0;32m   1337\u001b[0m   \u001b[1;33m@\u001b[0m\u001b[0mproperty\u001b[0m\u001b[1;33m\u001b[0m\u001b[1;33m\u001b[0m\u001b[0m\n",
      "\u001b[1;32mc:\\users\\jw\\appdata\\local\\programs\\python\\python36\\lib\\site-packages\\tensorflow\\python\\eager\\function.py\u001b[0m in \u001b[0;36m_filtered_call\u001b[1;34m(self, args, kwargs)\u001b[0m\n\u001b[0;32m    587\u001b[0m     \"\"\"\n\u001b[0;32m    588\u001b[0m     return self._call_flat(\n\u001b[1;32m--> 589\u001b[1;33m         (t for t in nest.flatten((args, kwargs), expand_composites=True)\n\u001b[0m\u001b[0;32m    590\u001b[0m          if isinstance(t, (ops.Tensor,\n\u001b[0;32m    591\u001b[0m                            resource_variable_ops.ResourceVariable))))\n",
      "\u001b[1;32mc:\\users\\jw\\appdata\\local\\programs\\python\\python36\\lib\\site-packages\\tensorflow\\python\\eager\\function.py\u001b[0m in \u001b[0;36m_call_flat\u001b[1;34m(self, args)\u001b[0m\n\u001b[0;32m    669\u001b[0m     \u001b[1;31m# Only need to override the gradient in graph mode and when we have outputs.\u001b[0m\u001b[1;33m\u001b[0m\u001b[1;33m\u001b[0m\u001b[1;33m\u001b[0m\u001b[0m\n\u001b[0;32m    670\u001b[0m     \u001b[1;32mif\u001b[0m \u001b[0mcontext\u001b[0m\u001b[1;33m.\u001b[0m\u001b[0mexecuting_eagerly\u001b[0m\u001b[1;33m(\u001b[0m\u001b[1;33m)\u001b[0m \u001b[1;32mor\u001b[0m \u001b[1;32mnot\u001b[0m \u001b[0mself\u001b[0m\u001b[1;33m.\u001b[0m\u001b[0moutputs\u001b[0m\u001b[1;33m:\u001b[0m\u001b[1;33m\u001b[0m\u001b[1;33m\u001b[0m\u001b[0m\n\u001b[1;32m--> 671\u001b[1;33m       \u001b[0moutputs\u001b[0m \u001b[1;33m=\u001b[0m \u001b[0mself\u001b[0m\u001b[1;33m.\u001b[0m\u001b[0m_inference_function\u001b[0m\u001b[1;33m.\u001b[0m\u001b[0mcall\u001b[0m\u001b[1;33m(\u001b[0m\u001b[0mctx\u001b[0m\u001b[1;33m,\u001b[0m \u001b[0margs\u001b[0m\u001b[1;33m)\u001b[0m\u001b[1;33m\u001b[0m\u001b[1;33m\u001b[0m\u001b[0m\n\u001b[0m\u001b[0;32m    672\u001b[0m     \u001b[1;32melse\u001b[0m\u001b[1;33m:\u001b[0m\u001b[1;33m\u001b[0m\u001b[1;33m\u001b[0m\u001b[0m\n\u001b[0;32m    673\u001b[0m       \u001b[0mself\u001b[0m\u001b[1;33m.\u001b[0m\u001b[0m_register_gradient\u001b[0m\u001b[1;33m(\u001b[0m\u001b[1;33m)\u001b[0m\u001b[1;33m\u001b[0m\u001b[1;33m\u001b[0m\u001b[0m\n",
      "\u001b[1;32mc:\\users\\jw\\appdata\\local\\programs\\python\\python36\\lib\\site-packages\\tensorflow\\python\\eager\\function.py\u001b[0m in \u001b[0;36mcall\u001b[1;34m(self, ctx, args)\u001b[0m\n\u001b[0;32m    443\u001b[0m             attrs=(\"executor_type\", executor_type,\n\u001b[0;32m    444\u001b[0m                    \"config_proto\", config),\n\u001b[1;32m--> 445\u001b[1;33m             ctx=ctx)\n\u001b[0m\u001b[0;32m    446\u001b[0m       \u001b[1;31m# Replace empty list with None\u001b[0m\u001b[1;33m\u001b[0m\u001b[1;33m\u001b[0m\u001b[1;33m\u001b[0m\u001b[0m\n\u001b[0;32m    447\u001b[0m       \u001b[0moutputs\u001b[0m \u001b[1;33m=\u001b[0m \u001b[0moutputs\u001b[0m \u001b[1;32mor\u001b[0m \u001b[1;32mNone\u001b[0m\u001b[1;33m\u001b[0m\u001b[1;33m\u001b[0m\u001b[0m\n",
      "\u001b[1;32mc:\\users\\jw\\appdata\\local\\programs\\python\\python36\\lib\\site-packages\\tensorflow\\python\\eager\\execute.py\u001b[0m in \u001b[0;36mquick_execute\u001b[1;34m(op_name, num_outputs, inputs, attrs, ctx, name)\u001b[0m\n\u001b[0;32m     59\u001b[0m     tensors = pywrap_tensorflow.TFE_Py_Execute(ctx._handle, device_name,\n\u001b[0;32m     60\u001b[0m                                                \u001b[0mop_name\u001b[0m\u001b[1;33m,\u001b[0m \u001b[0minputs\u001b[0m\u001b[1;33m,\u001b[0m \u001b[0mattrs\u001b[0m\u001b[1;33m,\u001b[0m\u001b[1;33m\u001b[0m\u001b[1;33m\u001b[0m\u001b[0m\n\u001b[1;32m---> 61\u001b[1;33m                                                num_outputs)\n\u001b[0m\u001b[0;32m     62\u001b[0m   \u001b[1;32mexcept\u001b[0m \u001b[0mcore\u001b[0m\u001b[1;33m.\u001b[0m\u001b[0m_NotOkStatusException\u001b[0m \u001b[1;32mas\u001b[0m \u001b[0me\u001b[0m\u001b[1;33m:\u001b[0m\u001b[1;33m\u001b[0m\u001b[1;33m\u001b[0m\u001b[0m\n\u001b[0;32m     63\u001b[0m     \u001b[1;32mif\u001b[0m \u001b[0mname\u001b[0m \u001b[1;32mis\u001b[0m \u001b[1;32mnot\u001b[0m \u001b[1;32mNone\u001b[0m\u001b[1;33m:\u001b[0m\u001b[1;33m\u001b[0m\u001b[1;33m\u001b[0m\u001b[0m\n",
      "\u001b[1;31mKeyboardInterrupt\u001b[0m: "
     ]
    }
   ],
   "source": [
    "EPOCHS = 100\n",
    "\n",
    "for epoch in range(EPOCHS):\n",
    "    for (images, labels), (images_2, labels_2) in zip(train_ds, train_ds_2):\n",
    "        model.train(images, labels)\n",
    "        model.train_2(images_2, labels_2)\n",
    "\n",
    "    for (test_images, test_labels), (test_images_2, test_labels_2) in zip(test_ds, test_ds_2):\n",
    "        model.test(test_images, test_labels)\n",
    "        model.test_2(test_images_2, test_labels_2)\n",
    "\n",
    "    template = 'Epoch: {}\\n' + \\\n",
    "    'L1: {:.4f}, Acc1: {:.2f}, L1 Test: {:.4f}, Acc1 Test: {:.2f}\\n'+ \\\n",
    "    'L2: {:.4f}, Acc2: {:.2f}, L2 Test: {:.4f}, Acc2 Test: {:.2f}\\n'\n",
    "    \n",
    "    print(template.format(epoch+1,\n",
    "                         model.train_loss.result(),\n",
    "                         model.train_accuracy.result()*100,\n",
    "                         model.test_loss.result(),\n",
    "                         model.test_accuracy.result()*100,\n",
    "                         model.train_loss_2.result(),\n",
    "                         model.train_accuracy_2.result()*100,\n",
    "                         model.test_loss_2.result(),\n",
    "                         model.test_accuracy_2.result()*100))"
   ]
  },
  {
   "cell_type": "code",
   "execution_count": null,
   "metadata": {},
   "outputs": [],
   "source": [
    "class SVHN():"
   ]
  },
  {
   "cell_type": "code",
   "execution_count": null,
   "metadata": {},
   "outputs": [],
   "source": [
    "class GTSRB():"
   ]
  }
 ],
 "metadata": {
  "kernelspec": {
   "display_name": "Python 3",
   "language": "python",
   "name": "python3"
  },
  "language_info": {
   "codemirror_mode": {
    "name": "ipython",
    "version": 3
   },
   "file_extension": ".py",
   "mimetype": "text/x-python",
   "name": "python",
   "nbconvert_exporter": "python",
   "pygments_lexer": "ipython3",
   "version": "3.6.8"
  }
 },
 "nbformat": 4,
 "nbformat_minor": 2
}

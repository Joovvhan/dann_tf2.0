{
 "cells": [
  {
   "cell_type": "code",
   "execution_count": 1,
   "metadata": {},
   "outputs": [],
   "source": [
    "import numpy as np\n",
    "import tensorflow as tf"
   ]
  },
  {
   "cell_type": "code",
   "execution_count": 2,
   "metadata": {},
   "outputs": [],
   "source": [
    "from models import DANN_Model"
   ]
  },
  {
   "cell_type": "code",
   "execution_count": 3,
   "metadata": {},
   "outputs": [],
   "source": [
    "x_train_mnist = np.load('../data/mnist/x_train.npy')\n",
    "y_train_mnist = np.load('../data/mnist/y_train.npy')\n",
    "\n",
    "x_test_mnist = np.load('../data/mnist/x_test.npy')\n",
    "y_test_mnist = np.load('../data/mnist/y_test.npy')"
   ]
  },
  {
   "cell_type": "code",
   "execution_count": 4,
   "metadata": {},
   "outputs": [],
   "source": [
    "x_train_svhn = np.load('../data/svhn/x_train.npy')\n",
    "y_train_svhn = np.load('../data/svhn/y_train.npy')\n",
    "\n",
    "x_test_svhn = np.load('../data/svhn/x_test.npy')\n",
    "y_test_svhn = np.load('../data/svhn/y_test.npy')"
   ]
  },
  {
   "cell_type": "code",
   "execution_count": 5,
   "metadata": {},
   "outputs": [],
   "source": [
    "x_train_mnist, x_test_mnist = x_train_mnist / 255.0, x_test_mnist / 255.0\n",
    "x_train_svhn, x_test_svhn = x_train_svhn / 255.0, x_test_svhn / 255.0"
   ]
  },
  {
   "cell_type": "code",
   "execution_count": 6,
   "metadata": {},
   "outputs": [],
   "source": [
    "x_train_mnist = tf.cast(x_train_mnist, tf.float32)\n",
    "x_test_mnist = tf.cast(x_test_mnist, tf.float32)\n",
    "x_train_svhn = tf.cast(x_train_svhn, tf.float32)\n",
    "x_test_svhn = tf.cast(x_test_svhn, tf.float32)"
   ]
  },
  {
   "cell_type": "code",
   "execution_count": 7,
   "metadata": {},
   "outputs": [],
   "source": [
    "def pad_image(x, y):\n",
    "    \n",
    "    paddings = tf.constant([[2, 2,], [2, 2]])\n",
    "    \n",
    "    new_x = tf.pad(x, paddings, \"CONSTANT\")\n",
    "    \n",
    "    return (new_x, y)\n",
    "\n",
    "def duplicate_channel(x, y):\n",
    "\n",
    "    new_x = tf.stack([x, x, x], axis = -1)\n",
    "    \n",
    "    return (new_x, y)"
   ]
  },
  {
   "cell_type": "code",
   "execution_count": 8,
   "metadata": {},
   "outputs": [],
   "source": [
    "mnist_train_dataset = tf.data.Dataset.from_tensor_slices((x_train_mnist, y_train_mnist))\n",
    "mnist_train_dataset = mnist_train_dataset.map(pad_image)\n",
    "mnist_train_dataset = mnist_train_dataset.map(duplicate_channel)\n",
    "target_train_dataset = mnist_train_dataset.shuffle(len(y_train_mnist))\n",
    "\n",
    "mnist_test_dataset = tf.data.Dataset.from_tensor_slices((x_test_mnist, y_test_mnist))\n",
    "mnist_test_dataset = mnist_test_dataset.map(pad_image)\n",
    "mnist_test_dataset = mnist_test_dataset.map(duplicate_channel)\n",
    "target_test_dataset = mnist_test_dataset.shuffle(len(y_test_mnist))\n",
    "\n",
    "svhn_train_dataset = tf.data.Dataset.from_tensor_slices((x_train_svhn, y_train_svhn))\n",
    "source_train_dataset = svhn_train_dataset.shuffle(len(y_train_svhn))\n",
    "\n",
    "svhn_test_dataset = tf.data.Dataset.from_tensor_slices((x_test_svhn, y_test_svhn))\n",
    "source_test_dataset = svhn_train_dataset.shuffle(len(y_test_svhn))\n",
    "\n",
    "\n",
    "\n",
    "source_train_dataset = source_train_dataset.batch(730)\n",
    "source_train_dataset = source_train_dataset.prefetch(50)\n",
    "\n",
    "source_test_dataset = source_test_dataset.batch(260)\n",
    "source_test_dataset = source_test_dataset.prefetch(50)\n",
    "\n",
    "target_train_dataset = target_train_dataset.batch(600)\n",
    "target_train_dataset = target_train_dataset.prefetch(50)\n",
    "\n",
    "# target_test_dataset = target_test_dataset.batch(500)\n",
    "# target_test_dataset = target_test_dataset.prefetch(50)"
   ]
  },
  {
   "cell_type": "code",
   "execution_count": 9,
   "metadata": {
    "scrolled": false
   },
   "outputs": [],
   "source": [
    "model = DANN_Model(input_shape=(32, 32, 3), model_type='MNIST')"
   ]
  },
  {
   "cell_type": "code",
   "execution_count": 11,
   "metadata": {
    "scrolled": false
   },
   "outputs": [
    {
     "name": "stdout",
     "output_type": "stream",
     "text": [
      "Epoch: 1\n",
      "L1: 0.2939, Acc1: 91.41, L1 Test: 0.2949, Acc1 Test: 91.35\n",
      "L2: 0.0251, Acc2: 99.46, L2 Test: 0.0174, Acc2 Test: 99.60\n",
      "L3 Test: 2.3399, Acc3 Test: 57.03\n",
      "\n",
      "Epoch: 2\n",
      "L1: 0.2761, Acc1: 92.01, L1 Test: 0.2782, Acc1 Test: 91.74\n",
      "L2: 0.0202, Acc2: 99.56, L2 Test: 0.0116, Acc2 Test: 99.76\n",
      "L3 Test: 2.3027, Acc3 Test: 56.95\n",
      "\n",
      "Epoch: 3\n",
      "L1: 0.2621, Acc1: 92.47, L1 Test: 0.2705, Acc1 Test: 91.92\n",
      "L2: 0.0155, Acc2: 99.65, L2 Test: 0.0112, Acc2 Test: 99.73\n",
      "L3 Test: 2.4210, Acc3 Test: 56.01\n",
      "\n",
      "Epoch: 4\n",
      "L1: 0.2507, Acc1: 92.81, L1 Test: 0.2601, Acc1 Test: 92.28\n",
      "L2: 0.0178, Acc2: 99.55, L2 Test: 0.0145, Acc2 Test: 99.62\n",
      "L3 Test: 2.3790, Acc3 Test: 57.08\n",
      "\n",
      "Epoch: 5\n",
      "L1: 0.2401, Acc1: 93.09, L1 Test: 0.2425, Acc1 Test: 92.71\n",
      "L2: 0.0199, Acc2: 99.48, L2 Test: 0.0124, Acc2 Test: 99.71\n",
      "L3 Test: 2.3652, Acc3 Test: 57.79\n",
      "\n",
      "Epoch: 6\n",
      "L1: 0.2339, Acc1: 93.21, L1 Test: 0.2289, Acc1 Test: 93.15\n",
      "L2: 0.0151, Acc2: 99.60, L2 Test: 0.0076, Acc2 Test: 99.83\n",
      "L3 Test: 2.5497, Acc3 Test: 57.49\n",
      "\n",
      "Epoch: 7\n",
      "L1: 0.2234, Acc1: 93.54, L1 Test: 0.2233, Acc1 Test: 93.30\n",
      "L2: 0.0093, Acc2: 99.79, L2 Test: 0.0063, Acc2 Test: 99.85\n",
      "L3 Test: 2.6252, Acc3 Test: 57.59\n",
      "\n",
      "Epoch: 8\n",
      "L1: 0.2132, Acc1: 93.83, L1 Test: 0.2140, Acc1 Test: 93.59\n",
      "L2: 0.0064, Acc2: 99.86, L2 Test: 0.0048, Acc2 Test: 99.90\n",
      "L3 Test: 2.7937, Acc3 Test: 56.88\n",
      "\n",
      "Epoch: 9\n",
      "L1: 0.2057, Acc1: 94.00, L1 Test: 0.2104, Acc1 Test: 93.73\n",
      "L2: 0.0050, Acc2: 99.90, L2 Test: 0.0035, Acc2 Test: 99.92\n",
      "L3 Test: 3.5697, Acc3 Test: 52.24\n",
      "\n",
      "Epoch: 10\n",
      "L1: 0.1975, Acc1: 94.28, L1 Test: 0.1989, Acc1 Test: 94.01\n",
      "L2: 0.0040, Acc2: 99.92, L2 Test: 0.0028, Acc2 Test: 99.94\n",
      "L3 Test: 4.2372, Acc3 Test: 51.45\n",
      "\n"
     ]
    }
   ],
   "source": [
    "EPOCHS = 10\n",
    "\n",
    "for epoch in range(EPOCHS):\n",
    "    for (source_images, class_labels), (target_images, _) in zip(source_train_dataset, target_train_dataset):\n",
    "        model.train(source_images, class_labels, target_images)\n",
    "\n",
    "    for (test_images, test_labels), (target_images, target_labels) in zip(source_test_dataset, target_train_dataset):\n",
    "        model.test(test_images, test_labels, target_images, target_labels)\n",
    "    \n",
    "    print('Epoch: {}'.format(epoch + 1))\n",
    "    print(model.log())\n",
    "    model.reset_metrics()"
   ]
  }
 ],
 "metadata": {
  "kernelspec": {
   "display_name": "Python 3",
   "language": "python",
   "name": "python3"
  },
  "language_info": {
   "codemirror_mode": {
    "name": "ipython",
    "version": 3
   },
   "file_extension": ".py",
   "mimetype": "text/x-python",
   "name": "python",
   "nbconvert_exporter": "python",
   "pygments_lexer": "ipython3",
   "version": "3.6.8"
  }
 },
 "nbformat": 4,
 "nbformat_minor": 2
}

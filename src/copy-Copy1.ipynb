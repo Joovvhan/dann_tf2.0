{
 "cells": [
  {
   "cell_type": "code",
   "execution_count": 12,
   "metadata": {},
   "outputs": [],
   "source": [
    "import tensorflow as tf"
   ]
  },
  {
   "cell_type": "code",
   "execution_count": 13,
   "metadata": {},
   "outputs": [],
   "source": [
    "mnist = tf.keras.datasets.mnist\n",
    "\n",
    "(x_train, y_train), (x_test, y_test) = mnist.load_data()\n",
    "x_train, x_test = x_train / 255.0, x_test / 255.0"
   ]
  },
  {
   "cell_type": "code",
   "execution_count": 14,
   "metadata": {},
   "outputs": [],
   "source": [
    "model = tf.keras.models.Sequential([\n",
    "  tf.keras.layers.Flatten(input_shape=(28, 28)),\n",
    "  tf.keras.layers.Dense(128, activation='relu'),\n",
    "  tf.keras.layers.Dropout(0.2),\n",
    "  tf.keras.layers.Dense(10, activation='softmax')\n",
    "])\n",
    "\n",
    "model.compile(optimizer='adam',\n",
    "              loss='sparse_categorical_crossentropy',\n",
    "              metrics=['accuracy'])"
   ]
  },
  {
   "cell_type": "code",
   "execution_count": 16,
   "metadata": {
    "scrolled": false
   },
   "outputs": [
    {
     "name": "stdout",
     "output_type": "stream",
     "text": [
      "Train on 60000 samples\n",
      "Epoch 1/5\n",
      "60000/60000 [==============================] - ETA: 9s - loss: 0.0446 - accuracy: 0.96 - ETA: 4s - loss: 0.0567 - accuracy: 0.98 - ETA: 4s - loss: 0.0639 - accuracy: 0.97 - ETA: 4s - loss: 0.0659 - accuracy: 0.97 - ETA: 4s - loss: 0.0644 - accuracy: 0.97 - ETA: 4s - loss: 0.0657 - accuracy: 0.97 - ETA: 4s - loss: 0.0622 - accuracy: 0.97 - ETA: 4s - loss: 0.0638 - accuracy: 0.97 - ETA: 4s - loss: 0.0657 - accuracy: 0.97 - ETA: 4s - loss: 0.0644 - accuracy: 0.97 - ETA: 4s - loss: 0.0643 - accuracy: 0.97 - ETA: 4s - loss: 0.0646 - accuracy: 0.97 - ETA: 4s - loss: 0.0652 - accuracy: 0.97 - ETA: 4s - loss: 0.0641 - accuracy: 0.97 - ETA: 4s - loss: 0.0635 - accuracy: 0.98 - ETA: 4s - loss: 0.0638 - accuracy: 0.97 - ETA: 4s - loss: 0.0628 - accuracy: 0.98 - ETA: 4s - loss: 0.0632 - accuracy: 0.98 - ETA: 4s - loss: 0.0627 - accuracy: 0.98 - ETA: 4s - loss: 0.0630 - accuracy: 0.98 - ETA: 4s - loss: 0.0625 - accuracy: 0.98 - ETA: 4s - loss: 0.0618 - accuracy: 0.98 - ETA: 4s - loss: 0.0617 - accuracy: 0.98 - ETA: 4s - loss: 0.0614 - accuracy: 0.98 - ETA: 3s - loss: 0.0611 - accuracy: 0.98 - ETA: 3s - loss: 0.0606 - accuracy: 0.98 - ETA: 3s - loss: 0.0608 - accuracy: 0.98 - ETA: 3s - loss: 0.0605 - accuracy: 0.98 - ETA: 3s - loss: 0.0602 - accuracy: 0.98 - ETA: 3s - loss: 0.0606 - accuracy: 0.98 - ETA: 3s - loss: 0.0598 - accuracy: 0.98 - ETA: 3s - loss: 0.0611 - accuracy: 0.98 - ETA: 3s - loss: 0.0615 - accuracy: 0.98 - ETA: 3s - loss: 0.0620 - accuracy: 0.98 - ETA: 3s - loss: 0.0617 - accuracy: 0.98 - ETA: 3s - loss: 0.0623 - accuracy: 0.98 - ETA: 3s - loss: 0.0627 - accuracy: 0.98 - ETA: 3s - loss: 0.0630 - accuracy: 0.98 - ETA: 3s - loss: 0.0625 - accuracy: 0.98 - ETA: 3s - loss: 0.0621 - accuracy: 0.98 - ETA: 3s - loss: 0.0626 - accuracy: 0.98 - ETA: 3s - loss: 0.0626 - accuracy: 0.98 - ETA: 3s - loss: 0.0629 - accuracy: 0.98 - ETA: 2s - loss: 0.0634 - accuracy: 0.97 - ETA: 2s - loss: 0.0629 - accuracy: 0.98 - ETA: 2s - loss: 0.0631 - accuracy: 0.97 - ETA: 2s - loss: 0.0626 - accuracy: 0.98 - ETA: 2s - loss: 0.0626 - accuracy: 0.98 - ETA: 2s - loss: 0.0621 - accuracy: 0.98 - ETA: 2s - loss: 0.0624 - accuracy: 0.98 - ETA: 2s - loss: 0.0625 - accuracy: 0.98 - ETA: 2s - loss: 0.0628 - accuracy: 0.98 - ETA: 2s - loss: 0.0626 - accuracy: 0.98 - ETA: 2s - loss: 0.0635 - accuracy: 0.98 - ETA: 2s - loss: 0.0636 - accuracy: 0.98 - ETA: 2s - loss: 0.0640 - accuracy: 0.98 - ETA: 2s - loss: 0.0637 - accuracy: 0.98 - ETA: 2s - loss: 0.0639 - accuracy: 0.98 - ETA: 2s - loss: 0.0640 - accuracy: 0.98 - ETA: 2s - loss: 0.0646 - accuracy: 0.97 - ETA: 2s - loss: 0.0644 - accuracy: 0.97 - ETA: 1s - loss: 0.0644 - accuracy: 0.97 - ETA: 1s - loss: 0.0640 - accuracy: 0.98 - ETA: 1s - loss: 0.0645 - accuracy: 0.97 - ETA: 1s - loss: 0.0642 - accuracy: 0.97 - ETA: 1s - loss: 0.0644 - accuracy: 0.97 - ETA: 1s - loss: 0.0642 - accuracy: 0.97 - ETA: 1s - loss: 0.0641 - accuracy: 0.97 - ETA: 1s - loss: 0.0642 - accuracy: 0.97 - ETA: 1s - loss: 0.0642 - accuracy: 0.98 - ETA: 1s - loss: 0.0640 - accuracy: 0.98 - ETA: 1s - loss: 0.0638 - accuracy: 0.98 - ETA: 1s - loss: 0.0640 - accuracy: 0.98 - ETA: 1s - loss: 0.0641 - accuracy: 0.98 - ETA: 1s - loss: 0.0644 - accuracy: 0.97 - ETA: 1s - loss: 0.0643 - accuracy: 0.97 - ETA: 1s - loss: 0.0643 - accuracy: 0.98 - ETA: 1s - loss: 0.0645 - accuracy: 0.97 - ETA: 1s - loss: 0.0647 - accuracy: 0.97 - ETA: 1s - loss: 0.0649 - accuracy: 0.97 - ETA: 1s - loss: 0.0648 - accuracy: 0.97 - ETA: 1s - loss: 0.0645 - accuracy: 0.97 - ETA: 0s - loss: 0.0647 - accuracy: 0.97 - ETA: 0s - loss: 0.0651 - accuracy: 0.97 - ETA: 0s - loss: 0.0654 - accuracy: 0.97 - ETA: 0s - loss: 0.0652 - accuracy: 0.97 - ETA: 0s - loss: 0.0652 - accuracy: 0.97 - ETA: 0s - loss: 0.0655 - accuracy: 0.97 - ETA: 0s - loss: 0.0653 - accuracy: 0.97 - ETA: 0s - loss: 0.0653 - accuracy: 0.97 - ETA: 0s - loss: 0.0651 - accuracy: 0.97 - ETA: 0s - loss: 0.0650 - accuracy: 0.97 - ETA: 0s - loss: 0.0651 - accuracy: 0.97 - ETA: 0s - loss: 0.0651 - accuracy: 0.97 - ETA: 0s - loss: 0.0653 - accuracy: 0.97 - ETA: 0s - loss: 0.0652 - accuracy: 0.97 - ETA: 0s - loss: 0.0653 - accuracy: 0.97 - ETA: 0s - loss: 0.0658 - accuracy: 0.97 - ETA: 0s - loss: 0.0656 - accuracy: 0.97 - ETA: 0s - loss: 0.0654 - accuracy: 0.97 - 5s 84us/sample - loss: 0.0655 - accuracy: 0.9797\n",
      "Epoch 2/5\n"
     ]
    },
    {
     "name": "stdout",
     "output_type": "stream",
     "text": [
      "60000/60000 [==============================] - ETA: 11s - loss: 0.0080 - accuracy: 1.000 - ETA: 5s - loss: 0.0376 - accuracy: 0.986 - ETA: 4s - loss: 0.0471 - accuracy: 0.98 - ETA: 4s - loss: 0.0462 - accuracy: 0.98 - ETA: 4s - loss: 0.0504 - accuracy: 0.98 - ETA: 4s - loss: 0.0469 - accuracy: 0.98 - ETA: 4s - loss: 0.0457 - accuracy: 0.98 - ETA: 4s - loss: 0.0520 - accuracy: 0.98 - ETA: 4s - loss: 0.0505 - accuracy: 0.98 - ETA: 4s - loss: 0.0507 - accuracy: 0.98 - ETA: 4s - loss: 0.0525 - accuracy: 0.98 - ETA: 4s - loss: 0.0518 - accuracy: 0.98 - ETA: 4s - loss: 0.0522 - accuracy: 0.98 - ETA: 4s - loss: 0.0529 - accuracy: 0.98 - ETA: 4s - loss: 0.0529 - accuracy: 0.98 - ETA: 4s - loss: 0.0523 - accuracy: 0.98 - ETA: 4s - loss: 0.0531 - accuracy: 0.98 - ETA: 4s - loss: 0.0525 - accuracy: 0.98 - ETA: 4s - loss: 0.0514 - accuracy: 0.98 - ETA: 4s - loss: 0.0506 - accuracy: 0.98 - ETA: 4s - loss: 0.0509 - accuracy: 0.98 - ETA: 4s - loss: 0.0504 - accuracy: 0.98 - ETA: 4s - loss: 0.0497 - accuracy: 0.98 - ETA: 4s - loss: 0.0506 - accuracy: 0.98 - ETA: 3s - loss: 0.0522 - accuracy: 0.98 - ETA: 3s - loss: 0.0518 - accuracy: 0.98 - ETA: 3s - loss: 0.0525 - accuracy: 0.98 - ETA: 3s - loss: 0.0527 - accuracy: 0.98 - ETA: 3s - loss: 0.0521 - accuracy: 0.98 - ETA: 3s - loss: 0.0524 - accuracy: 0.98 - ETA: 3s - loss: 0.0530 - accuracy: 0.98 - ETA: 3s - loss: 0.0529 - accuracy: 0.98 - ETA: 3s - loss: 0.0533 - accuracy: 0.98 - ETA: 3s - loss: 0.0529 - accuracy: 0.98 - ETA: 3s - loss: 0.0525 - accuracy: 0.98 - ETA: 3s - loss: 0.0530 - accuracy: 0.98 - ETA: 3s - loss: 0.0527 - accuracy: 0.98 - ETA: 3s - loss: 0.0525 - accuracy: 0.98 - ETA: 3s - loss: 0.0527 - accuracy: 0.98 - ETA: 3s - loss: 0.0532 - accuracy: 0.98 - ETA: 3s - loss: 0.0533 - accuracy: 0.98 - ETA: 3s - loss: 0.0532 - accuracy: 0.98 - ETA: 3s - loss: 0.0536 - accuracy: 0.98 - ETA: 3s - loss: 0.0535 - accuracy: 0.98 - ETA: 3s - loss: 0.0532 - accuracy: 0.98 - ETA: 2s - loss: 0.0531 - accuracy: 0.98 - ETA: 2s - loss: 0.0531 - accuracy: 0.98 - ETA: 2s - loss: 0.0529 - accuracy: 0.98 - ETA: 2s - loss: 0.0531 - accuracy: 0.98 - ETA: 2s - loss: 0.0530 - accuracy: 0.98 - ETA: 2s - loss: 0.0537 - accuracy: 0.98 - ETA: 2s - loss: 0.0537 - accuracy: 0.98 - ETA: 2s - loss: 0.0542 - accuracy: 0.98 - ETA: 2s - loss: 0.0540 - accuracy: 0.98 - ETA: 2s - loss: 0.0537 - accuracy: 0.98 - ETA: 2s - loss: 0.0539 - accuracy: 0.98 - ETA: 2s - loss: 0.0539 - accuracy: 0.98 - ETA: 2s - loss: 0.0540 - accuracy: 0.98 - ETA: 2s - loss: 0.0543 - accuracy: 0.98 - ETA: 2s - loss: 0.0544 - accuracy: 0.98 - ETA: 2s - loss: 0.0549 - accuracy: 0.98 - ETA: 2s - loss: 0.0547 - accuracy: 0.98 - ETA: 2s - loss: 0.0548 - accuracy: 0.98 - ETA: 2s - loss: 0.0555 - accuracy: 0.98 - ETA: 1s - loss: 0.0560 - accuracy: 0.98 - ETA: 1s - loss: 0.0560 - accuracy: 0.98 - ETA: 1s - loss: 0.0562 - accuracy: 0.98 - ETA: 1s - loss: 0.0558 - accuracy: 0.98 - ETA: 1s - loss: 0.0558 - accuracy: 0.98 - ETA: 1s - loss: 0.0555 - accuracy: 0.98 - ETA: 1s - loss: 0.0554 - accuracy: 0.98 - ETA: 1s - loss: 0.0555 - accuracy: 0.98 - ETA: 1s - loss: 0.0555 - accuracy: 0.98 - ETA: 1s - loss: 0.0556 - accuracy: 0.98 - ETA: 1s - loss: 0.0558 - accuracy: 0.98 - ETA: 1s - loss: 0.0557 - accuracy: 0.98 - ETA: 1s - loss: 0.0559 - accuracy: 0.98 - ETA: 1s - loss: 0.0561 - accuracy: 0.98 - ETA: 1s - loss: 0.0560 - accuracy: 0.98 - ETA: 1s - loss: 0.0562 - accuracy: 0.98 - ETA: 1s - loss: 0.0562 - accuracy: 0.98 - ETA: 1s - loss: 0.0565 - accuracy: 0.98 - ETA: 1s - loss: 0.0564 - accuracy: 0.98 - ETA: 0s - loss: 0.0564 - accuracy: 0.98 - ETA: 0s - loss: 0.0561 - accuracy: 0.98 - ETA: 0s - loss: 0.0562 - accuracy: 0.98 - ETA: 0s - loss: 0.0562 - accuracy: 0.98 - ETA: 0s - loss: 0.0562 - accuracy: 0.98 - ETA: 0s - loss: 0.0561 - accuracy: 0.98 - ETA: 0s - loss: 0.0560 - accuracy: 0.98 - ETA: 0s - loss: 0.0560 - accuracy: 0.98 - ETA: 0s - loss: 0.0560 - accuracy: 0.98 - ETA: 0s - loss: 0.0563 - accuracy: 0.98 - ETA: 0s - loss: 0.0564 - accuracy: 0.98 - ETA: 0s - loss: 0.0565 - accuracy: 0.98 - ETA: 0s - loss: 0.0567 - accuracy: 0.98 - ETA: 0s - loss: 0.0567 - accuracy: 0.98 - ETA: 0s - loss: 0.0569 - accuracy: 0.98 - ETA: 0s - loss: 0.0570 - accuracy: 0.98 - ETA: 0s - loss: 0.0571 - accuracy: 0.98 - ETA: 0s - loss: 0.0572 - accuracy: 0.98 - ETA: 0s - loss: 0.0572 - accuracy: 0.98 - 5s 86us/sample - loss: 0.0572 - accuracy: 0.9813\n",
      "Epoch 3/5\n"
     ]
    },
    {
     "name": "stdout",
     "output_type": "stream",
     "text": [
      "60000/60000 [==============================] - ETA: 9s - loss: 0.0258 - accuracy: 1.00 - ETA: 5s - loss: 0.0433 - accuracy: 0.99 - ETA: 5s - loss: 0.0481 - accuracy: 0.98 - ETA: 5s - loss: 0.0503 - accuracy: 0.98 - ETA: 5s - loss: 0.0532 - accuracy: 0.98 - ETA: 4s - loss: 0.0532 - accuracy: 0.98 - ETA: 4s - loss: 0.0505 - accuracy: 0.98 - ETA: 4s - loss: 0.0503 - accuracy: 0.98 - ETA: 4s - loss: 0.0500 - accuracy: 0.98 - ETA: 4s - loss: 0.0502 - accuracy: 0.98 - ETA: 4s - loss: 0.0490 - accuracy: 0.98 - ETA: 4s - loss: 0.0494 - accuracy: 0.98 - ETA: 4s - loss: 0.0493 - accuracy: 0.98 - ETA: 4s - loss: 0.0508 - accuracy: 0.98 - ETA: 4s - loss: 0.0511 - accuracy: 0.98 - ETA: 4s - loss: 0.0502 - accuracy: 0.98 - ETA: 4s - loss: 0.0489 - accuracy: 0.98 - ETA: 4s - loss: 0.0493 - accuracy: 0.98 - ETA: 4s - loss: 0.0485 - accuracy: 0.98 - ETA: 4s - loss: 0.0479 - accuracy: 0.98 - ETA: 4s - loss: 0.0468 - accuracy: 0.98 - ETA: 4s - loss: 0.0475 - accuracy: 0.98 - ETA: 3s - loss: 0.0487 - accuracy: 0.98 - ETA: 3s - loss: 0.0489 - accuracy: 0.98 - ETA: 3s - loss: 0.0503 - accuracy: 0.98 - ETA: 3s - loss: 0.0504 - accuracy: 0.98 - ETA: 3s - loss: 0.0522 - accuracy: 0.98 - ETA: 3s - loss: 0.0520 - accuracy: 0.98 - ETA: 3s - loss: 0.0513 - accuracy: 0.98 - ETA: 3s - loss: 0.0511 - accuracy: 0.98 - ETA: 3s - loss: 0.0515 - accuracy: 0.98 - ETA: 3s - loss: 0.0511 - accuracy: 0.98 - ETA: 3s - loss: 0.0506 - accuracy: 0.98 - ETA: 3s - loss: 0.0508 - accuracy: 0.98 - ETA: 3s - loss: 0.0506 - accuracy: 0.98 - ETA: 3s - loss: 0.0509 - accuracy: 0.98 - ETA: 3s - loss: 0.0515 - accuracy: 0.98 - ETA: 3s - loss: 0.0518 - accuracy: 0.98 - ETA: 3s - loss: 0.0520 - accuracy: 0.98 - ETA: 3s - loss: 0.0515 - accuracy: 0.98 - ETA: 2s - loss: 0.0517 - accuracy: 0.98 - ETA: 2s - loss: 0.0518 - accuracy: 0.98 - ETA: 2s - loss: 0.0513 - accuracy: 0.98 - ETA: 2s - loss: 0.0505 - accuracy: 0.98 - ETA: 2s - loss: 0.0508 - accuracy: 0.98 - ETA: 2s - loss: 0.0509 - accuracy: 0.98 - ETA: 2s - loss: 0.0510 - accuracy: 0.98 - ETA: 2s - loss: 0.0511 - accuracy: 0.98 - ETA: 2s - loss: 0.0511 - accuracy: 0.98 - ETA: 2s - loss: 0.0508 - accuracy: 0.98 - ETA: 2s - loss: 0.0510 - accuracy: 0.98 - ETA: 2s - loss: 0.0513 - accuracy: 0.98 - ETA: 2s - loss: 0.0511 - accuracy: 0.98 - ETA: 2s - loss: 0.0512 - accuracy: 0.98 - ETA: 2s - loss: 0.0514 - accuracy: 0.98 - ETA: 2s - loss: 0.0514 - accuracy: 0.98 - ETA: 2s - loss: 0.0517 - accuracy: 0.98 - ETA: 2s - loss: 0.0517 - accuracy: 0.98 - ETA: 2s - loss: 0.0520 - accuracy: 0.98 - ETA: 1s - loss: 0.0521 - accuracy: 0.98 - ETA: 1s - loss: 0.0519 - accuracy: 0.98 - ETA: 1s - loss: 0.0518 - accuracy: 0.98 - ETA: 1s - loss: 0.0523 - accuracy: 0.98 - ETA: 1s - loss: 0.0523 - accuracy: 0.98 - ETA: 1s - loss: 0.0523 - accuracy: 0.98 - ETA: 1s - loss: 0.0521 - accuracy: 0.98 - ETA: 1s - loss: 0.0518 - accuracy: 0.98 - ETA: 1s - loss: 0.0522 - accuracy: 0.98 - ETA: 1s - loss: 0.0523 - accuracy: 0.98 - ETA: 1s - loss: 0.0524 - accuracy: 0.98 - ETA: 1s - loss: 0.0528 - accuracy: 0.98 - ETA: 1s - loss: 0.0526 - accuracy: 0.98 - ETA: 1s - loss: 0.0524 - accuracy: 0.98 - ETA: 1s - loss: 0.0526 - accuracy: 0.98 - ETA: 1s - loss: 0.0524 - accuracy: 0.98 - ETA: 1s - loss: 0.0523 - accuracy: 0.98 - ETA: 1s - loss: 0.0522 - accuracy: 0.98 - ETA: 1s - loss: 0.0529 - accuracy: 0.98 - ETA: 1s - loss: 0.0527 - accuracy: 0.98 - ETA: 0s - loss: 0.0527 - accuracy: 0.98 - ETA: 0s - loss: 0.0528 - accuracy: 0.98 - ETA: 0s - loss: 0.0527 - accuracy: 0.98 - ETA: 0s - loss: 0.0527 - accuracy: 0.98 - ETA: 0s - loss: 0.0524 - accuracy: 0.98 - ETA: 0s - loss: 0.0525 - accuracy: 0.98 - ETA: 0s - loss: 0.0524 - accuracy: 0.98 - ETA: 0s - loss: 0.0525 - accuracy: 0.98 - ETA: 0s - loss: 0.0529 - accuracy: 0.98 - ETA: 0s - loss: 0.0528 - accuracy: 0.98 - ETA: 0s - loss: 0.0530 - accuracy: 0.98 - ETA: 0s - loss: 0.0532 - accuracy: 0.98 - ETA: 0s - loss: 0.0531 - accuracy: 0.98 - ETA: 0s - loss: 0.0532 - accuracy: 0.98 - ETA: 0s - loss: 0.0533 - accuracy: 0.98 - ETA: 0s - loss: 0.0532 - accuracy: 0.98 - ETA: 0s - loss: 0.0533 - accuracy: 0.98 - ETA: 0s - loss: 0.0534 - accuracy: 0.98 - ETA: 0s - loss: 0.0534 - accuracy: 0.98 - ETA: 0s - loss: 0.0535 - accuracy: 0.98 - 5s 83us/sample - loss: 0.0534 - accuracy: 0.9823\n",
      "Epoch 4/5\n"
     ]
    },
    {
     "name": "stdout",
     "output_type": "stream",
     "text": [
      "60000/60000 [==============================] - ETA: 9s - loss: 0.0139 - accuracy: 1.00 - ETA: 5s - loss: 0.0740 - accuracy: 0.97 - ETA: 4s - loss: 0.0582 - accuracy: 0.98 - ETA: 4s - loss: 0.0569 - accuracy: 0.98 - ETA: 4s - loss: 0.0558 - accuracy: 0.98 - ETA: 4s - loss: 0.0561 - accuracy: 0.98 - ETA: 4s - loss: 0.0532 - accuracy: 0.98 - ETA: 4s - loss: 0.0513 - accuracy: 0.98 - ETA: 4s - loss: 0.0481 - accuracy: 0.98 - ETA: 4s - loss: 0.0465 - accuracy: 0.98 - ETA: 4s - loss: 0.0474 - accuracy: 0.98 - ETA: 4s - loss: 0.0488 - accuracy: 0.98 - ETA: 4s - loss: 0.0501 - accuracy: 0.98 - ETA: 4s - loss: 0.0499 - accuracy: 0.98 - ETA: 4s - loss: 0.0491 - accuracy: 0.98 - ETA: 4s - loss: 0.0479 - accuracy: 0.98 - ETA: 3s - loss: 0.0474 - accuracy: 0.98 - ETA: 3s - loss: 0.0470 - accuracy: 0.98 - ETA: 3s - loss: 0.0469 - accuracy: 0.98 - ETA: 3s - loss: 0.0462 - accuracy: 0.98 - ETA: 3s - loss: 0.0457 - accuracy: 0.98 - ETA: 3s - loss: 0.0460 - accuracy: 0.98 - ETA: 3s - loss: 0.0462 - accuracy: 0.98 - ETA: 3s - loss: 0.0456 - accuracy: 0.98 - ETA: 3s - loss: 0.0453 - accuracy: 0.98 - ETA: 3s - loss: 0.0452 - accuracy: 0.98 - ETA: 3s - loss: 0.0451 - accuracy: 0.98 - ETA: 3s - loss: 0.0443 - accuracy: 0.98 - ETA: 3s - loss: 0.0449 - accuracy: 0.98 - ETA: 3s - loss: 0.0449 - accuracy: 0.98 - ETA: 3s - loss: 0.0451 - accuracy: 0.98 - ETA: 3s - loss: 0.0455 - accuracy: 0.98 - ETA: 3s - loss: 0.0465 - accuracy: 0.98 - ETA: 3s - loss: 0.0466 - accuracy: 0.98 - ETA: 3s - loss: 0.0467 - accuracy: 0.98 - ETA: 3s - loss: 0.0464 - accuracy: 0.98 - ETA: 3s - loss: 0.0465 - accuracy: 0.98 - ETA: 2s - loss: 0.0464 - accuracy: 0.98 - ETA: 2s - loss: 0.0465 - accuracy: 0.98 - ETA: 2s - loss: 0.0466 - accuracy: 0.98 - ETA: 2s - loss: 0.0467 - accuracy: 0.98 - ETA: 2s - loss: 0.0466 - accuracy: 0.98 - ETA: 2s - loss: 0.0462 - accuracy: 0.98 - ETA: 2s - loss: 0.0467 - accuracy: 0.98 - ETA: 2s - loss: 0.0465 - accuracy: 0.98 - ETA: 2s - loss: 0.0464 - accuracy: 0.98 - ETA: 2s - loss: 0.0462 - accuracy: 0.98 - ETA: 2s - loss: 0.0459 - accuracy: 0.98 - ETA: 2s - loss: 0.0458 - accuracy: 0.98 - ETA: 2s - loss: 0.0461 - accuracy: 0.98 - ETA: 2s - loss: 0.0460 - accuracy: 0.98 - ETA: 2s - loss: 0.0463 - accuracy: 0.98 - ETA: 2s - loss: 0.0465 - accuracy: 0.98 - ETA: 2s - loss: 0.0462 - accuracy: 0.98 - ETA: 2s - loss: 0.0463 - accuracy: 0.98 - ETA: 2s - loss: 0.0463 - accuracy: 0.98 - ETA: 2s - loss: 0.0465 - accuracy: 0.98 - ETA: 2s - loss: 0.0466 - accuracy: 0.98 - ETA: 2s - loss: 0.0464 - accuracy: 0.98 - ETA: 2s - loss: 0.0465 - accuracy: 0.98 - ETA: 2s - loss: 0.0465 - accuracy: 0.98 - ETA: 1s - loss: 0.0467 - accuracy: 0.98 - ETA: 1s - loss: 0.0465 - accuracy: 0.98 - ETA: 1s - loss: 0.0463 - accuracy: 0.98 - ETA: 1s - loss: 0.0460 - accuracy: 0.98 - ETA: 1s - loss: 0.0464 - accuracy: 0.98 - ETA: 1s - loss: 0.0464 - accuracy: 0.98 - ETA: 1s - loss: 0.0466 - accuracy: 0.98 - ETA: 1s - loss: 0.0468 - accuracy: 0.98 - ETA: 1s - loss: 0.0467 - accuracy: 0.98 - ETA: 1s - loss: 0.0467 - accuracy: 0.98 - ETA: 1s - loss: 0.0466 - accuracy: 0.98 - ETA: 1s - loss: 0.0467 - accuracy: 0.98 - ETA: 1s - loss: 0.0465 - accuracy: 0.98 - ETA: 1s - loss: 0.0466 - accuracy: 0.98 - ETA: 1s - loss: 0.0464 - accuracy: 0.98 - ETA: 1s - loss: 0.0463 - accuracy: 0.98 - ETA: 1s - loss: 0.0463 - accuracy: 0.98 - ETA: 1s - loss: 0.0465 - accuracy: 0.98 - ETA: 1s - loss: 0.0463 - accuracy: 0.98 - ETA: 1s - loss: 0.0465 - accuracy: 0.98 - ETA: 1s - loss: 0.0462 - accuracy: 0.98 - ETA: 1s - loss: 0.0463 - accuracy: 0.98 - ETA: 0s - loss: 0.0464 - accuracy: 0.98 - ETA: 0s - loss: 0.0464 - accuracy: 0.98 - ETA: 0s - loss: 0.0465 - accuracy: 0.98 - ETA: 0s - loss: 0.0467 - accuracy: 0.98 - ETA: 0s - loss: 0.0470 - accuracy: 0.98 - ETA: 0s - loss: 0.0470 - accuracy: 0.98 - ETA: 0s - loss: 0.0468 - accuracy: 0.98 - ETA: 0s - loss: 0.0469 - accuracy: 0.98 - ETA: 0s - loss: 0.0469 - accuracy: 0.98 - ETA: 0s - loss: 0.0468 - accuracy: 0.98 - ETA: 0s - loss: 0.0468 - accuracy: 0.98 - ETA: 0s - loss: 0.0470 - accuracy: 0.98 - ETA: 0s - loss: 0.0470 - accuracy: 0.98 - ETA: 0s - loss: 0.0469 - accuracy: 0.98 - ETA: 0s - loss: 0.0468 - accuracy: 0.98 - ETA: 0s - loss: 0.0467 - accuracy: 0.98 - ETA: 0s - loss: 0.0471 - accuracy: 0.98 - ETA: 0s - loss: 0.0471 - accuracy: 0.98 - ETA: 0s - loss: 0.0470 - accuracy: 0.98 - ETA: 0s - loss: 0.0471 - accuracy: 0.98 - ETA: 0s - loss: 0.0471 - accuracy: 0.98 - 5s 88us/sample - loss: 0.0470 - accuracy: 0.9849\n",
      "Epoch 5/5\n"
     ]
    },
    {
     "name": "stdout",
     "output_type": "stream",
     "text": [
      "60000/60000 [==============================] - ETA: 9s - loss: 0.0180 - accuracy: 1.00 - ETA: 5s - loss: 0.0254 - accuracy: 0.98 - ETA: 5s - loss: 0.0388 - accuracy: 0.98 - ETA: 5s - loss: 0.0369 - accuracy: 0.98 - ETA: 5s - loss: 0.0348 - accuracy: 0.98 - ETA: 5s - loss: 0.0338 - accuracy: 0.98 - ETA: 5s - loss: 0.0331 - accuracy: 0.98 - ETA: 5s - loss: 0.0320 - accuracy: 0.98 - ETA: 5s - loss: 0.0339 - accuracy: 0.98 - ETA: 5s - loss: 0.0383 - accuracy: 0.98 - ETA: 5s - loss: 0.0389 - accuracy: 0.98 - ETA: 5s - loss: 0.0380 - accuracy: 0.98 - ETA: 5s - loss: 0.0423 - accuracy: 0.98 - ETA: 5s - loss: 0.0402 - accuracy: 0.98 - ETA: 5s - loss: 0.0395 - accuracy: 0.98 - ETA: 4s - loss: 0.0394 - accuracy: 0.98 - ETA: 4s - loss: 0.0405 - accuracy: 0.98 - ETA: 4s - loss: 0.0404 - accuracy: 0.98 - ETA: 4s - loss: 0.0404 - accuracy: 0.98 - ETA: 4s - loss: 0.0408 - accuracy: 0.98 - ETA: 4s - loss: 0.0403 - accuracy: 0.98 - ETA: 4s - loss: 0.0402 - accuracy: 0.98 - ETA: 4s - loss: 0.0401 - accuracy: 0.98 - ETA: 4s - loss: 0.0409 - accuracy: 0.98 - ETA: 4s - loss: 0.0408 - accuracy: 0.98 - ETA: 4s - loss: 0.0409 - accuracy: 0.98 - ETA: 4s - loss: 0.0409 - accuracy: 0.98 - ETA: 4s - loss: 0.0405 - accuracy: 0.98 - ETA: 4s - loss: 0.0409 - accuracy: 0.98 - ETA: 4s - loss: 0.0415 - accuracy: 0.98 - ETA: 4s - loss: 0.0408 - accuracy: 0.98 - ETA: 4s - loss: 0.0408 - accuracy: 0.98 - ETA: 3s - loss: 0.0402 - accuracy: 0.98 - ETA: 3s - loss: 0.0410 - accuracy: 0.98 - ETA: 3s - loss: 0.0407 - accuracy: 0.98 - ETA: 3s - loss: 0.0409 - accuracy: 0.98 - ETA: 3s - loss: 0.0412 - accuracy: 0.98 - ETA: 3s - loss: 0.0421 - accuracy: 0.98 - ETA: 3s - loss: 0.0416 - accuracy: 0.98 - ETA: 3s - loss: 0.0415 - accuracy: 0.98 - ETA: 3s - loss: 0.0412 - accuracy: 0.98 - ETA: 3s - loss: 0.0416 - accuracy: 0.98 - ETA: 3s - loss: 0.0422 - accuracy: 0.98 - ETA: 3s - loss: 0.0422 - accuracy: 0.98 - ETA: 3s - loss: 0.0429 - accuracy: 0.98 - ETA: 3s - loss: 0.0433 - accuracy: 0.98 - ETA: 3s - loss: 0.0435 - accuracy: 0.98 - ETA: 3s - loss: 0.0431 - accuracy: 0.98 - ETA: 3s - loss: 0.0439 - accuracy: 0.98 - ETA: 3s - loss: 0.0441 - accuracy: 0.98 - ETA: 2s - loss: 0.0438 - accuracy: 0.98 - ETA: 2s - loss: 0.0440 - accuracy: 0.98 - ETA: 2s - loss: 0.0438 - accuracy: 0.98 - ETA: 2s - loss: 0.0436 - accuracy: 0.98 - ETA: 2s - loss: 0.0431 - accuracy: 0.98 - ETA: 2s - loss: 0.0428 - accuracy: 0.98 - ETA: 2s - loss: 0.0425 - accuracy: 0.98 - ETA: 2s - loss: 0.0422 - accuracy: 0.98 - ETA: 2s - loss: 0.0423 - accuracy: 0.98 - ETA: 2s - loss: 0.0420 - accuracy: 0.98 - ETA: 2s - loss: 0.0419 - accuracy: 0.98 - ETA: 2s - loss: 0.0417 - accuracy: 0.98 - ETA: 2s - loss: 0.0416 - accuracy: 0.98 - ETA: 2s - loss: 0.0417 - accuracy: 0.98 - ETA: 2s - loss: 0.0417 - accuracy: 0.98 - ETA: 2s - loss: 0.0415 - accuracy: 0.98 - ETA: 2s - loss: 0.0415 - accuracy: 0.98 - ETA: 2s - loss: 0.0417 - accuracy: 0.98 - ETA: 1s - loss: 0.0424 - accuracy: 0.98 - ETA: 1s - loss: 0.0424 - accuracy: 0.98 - ETA: 1s - loss: 0.0422 - accuracy: 0.98 - ETA: 1s - loss: 0.0423 - accuracy: 0.98 - ETA: 1s - loss: 0.0421 - accuracy: 0.98 - ETA: 1s - loss: 0.0421 - accuracy: 0.98 - ETA: 1s - loss: 0.0420 - accuracy: 0.98 - ETA: 1s - loss: 0.0421 - accuracy: 0.98 - ETA: 1s - loss: 0.0422 - accuracy: 0.98 - ETA: 1s - loss: 0.0428 - accuracy: 0.98 - ETA: 1s - loss: 0.0429 - accuracy: 0.98 - ETA: 1s - loss: 0.0428 - accuracy: 0.98 - ETA: 1s - loss: 0.0428 - accuracy: 0.98 - ETA: 1s - loss: 0.0429 - accuracy: 0.98 - ETA: 1s - loss: 0.0429 - accuracy: 0.98 - ETA: 1s - loss: 0.0430 - accuracy: 0.98 - ETA: 1s - loss: 0.0430 - accuracy: 0.98 - ETA: 1s - loss: 0.0430 - accuracy: 0.98 - ETA: 1s - loss: 0.0430 - accuracy: 0.98 - ETA: 1s - loss: 0.0429 - accuracy: 0.98 - ETA: 0s - loss: 0.0428 - accuracy: 0.98 - ETA: 0s - loss: 0.0426 - accuracy: 0.98 - ETA: 0s - loss: 0.0426 - accuracy: 0.98 - ETA: 0s - loss: 0.0428 - accuracy: 0.98 - ETA: 0s - loss: 0.0431 - accuracy: 0.98 - ETA: 0s - loss: 0.0432 - accuracy: 0.98 - ETA: 0s - loss: 0.0434 - accuracy: 0.98 - ETA: 0s - loss: 0.0433 - accuracy: 0.98 - ETA: 0s - loss: 0.0435 - accuracy: 0.98 - ETA: 0s - loss: 0.0433 - accuracy: 0.98 - ETA: 0s - loss: 0.0432 - accuracy: 0.98 - ETA: 0s - loss: 0.0433 - accuracy: 0.98 - ETA: 0s - loss: 0.0433 - accuracy: 0.98 - ETA: 0s - loss: 0.0431 - accuracy: 0.98 - ETA: 0s - loss: 0.0432 - accuracy: 0.98 - ETA: 0s - loss: 0.0432 - accuracy: 0.98 - ETA: 0s - loss: 0.0432 - accuracy: 0.98 - ETA: 0s - loss: 0.0429 - accuracy: 0.98 - ETA: 0s - loss: 0.0430 - accuracy: 0.98 - 5s 91us/sample - loss: 0.0431 - accuracy: 0.9859\n",
      "10000/10000 [==============================] - ETA: 0s - loss: 0.0013 - accuracy: 1.00 - ETA: 0s - loss: 0.1003 - accuracy: 0.97 - ETA: 0s - loss: 0.1085 - accuracy: 0.96 - ETA: 0s - loss: 0.1037 - accuracy: 0.97 - ETA: 0s - loss: 0.1025 - accuracy: 0.97 - ETA: 0s - loss: 0.0938 - accuracy: 0.97 - ETA: 0s - loss: 0.0855 - accuracy: 0.97 - ETA: 0s - loss: 0.0782 - accuracy: 0.97 - ETA: 0s - loss: 0.0733 - accuracy: 0.98 - 0s 42us/sample - loss: 0.0736 - accuracy: 0.9806\n"
     ]
    },
    {
     "data": {
      "text/plain": [
       "[0.07360779738271377, 0.9806]"
      ]
     },
     "execution_count": 16,
     "metadata": {},
     "output_type": "execute_result"
    }
   ],
   "source": [
    "model.fit(x_train, y_train, epochs=5)\n",
    "\n",
    "model.evaluate(x_test, y_test)"
   ]
  }
 ],
 "metadata": {
  "kernelspec": {
   "display_name": "Python 3",
   "language": "python",
   "name": "python3"
  },
  "language_info": {
   "codemirror_mode": {
    "name": "ipython",
    "version": 3
   },
   "file_extension": ".py",
   "mimetype": "text/x-python",
   "name": "python",
   "nbconvert_exporter": "python",
   "pygments_lexer": "ipython3",
   "version": "3.6.8"
  }
 },
 "nbformat": 4,
 "nbformat_minor": 2
}

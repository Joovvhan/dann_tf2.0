{
 "cells": [
  {
   "cell_type": "code",
   "execution_count": 1,
   "metadata": {},
   "outputs": [],
   "source": [
    "import tensorflow as tf\n",
    "import numpy as np"
   ]
  },
  {
   "cell_type": "code",
   "execution_count": 2,
   "metadata": {},
   "outputs": [],
   "source": [
    "class MNIST():\n",
    "    def __init__(self, input_shape):\n",
    "        super(MNIST, self).__init__()\n",
    "        self.feature_extractor = tf.keras.models.Sequential([\n",
    "            tf.keras.layers.Conv2D(filters=32, kernel_size=5,\n",
    "                                   strides=1, input_shape=input_shape),\n",
    "            tf.keras.layers.BatchNormalization(),\n",
    "            tf.keras.layers.Activation('relu'),\n",
    "            tf.keras.layers.MaxPooling2D(pool_size=2, strides=2),\n",
    "            tf.keras.layers.Conv2D(filters=48, kernel_size=5, strides=1),\n",
    "            tf.keras.layers.BatchNormalization(),\n",
    "            tf.keras.layers.Activation('relu'),\n",
    "            tf.keras.layers.MaxPooling2D(pool_size=2, strides=2),\n",
    "            tf.keras.layers.Flatten()            \n",
    "        ])\n",
    "        \n",
    "        self.label_predictor = tf.keras.models.Sequential([\n",
    "            tf.keras.layers.Dense(100),\n",
    "            tf.keras.layers.BatchNormalization(),\n",
    "            tf.keras.layers.Activation('relu'),\n",
    "            tf.keras.layers.Dense(100),\n",
    "            tf.keras.layers.BatchNormalization(),\n",
    "            tf.keras.layers.Activation('relu'),\n",
    "            tf.keras.layers.Dense(10, activation='softmax')\n",
    "        ])\n",
    "        self.domain_predictor = tf.keras.models.Sequential([\n",
    "            tf.keras.layers.Dense(100),\n",
    "            tf.keras.layers.BatchNormalization(),\n",
    "            tf.keras.layers.Activation('relu'),\n",
    "            tf.keras.layers.Dense(1),\n",
    "            tf.keras.layers.Activation('sigmoid')          \n",
    "        ])\n",
    "        self.path_1 = tf.keras.models.Sequential([\n",
    "            self.feature_extractor,\n",
    "            self.label_predictor\n",
    "        ])\n",
    "        self.path_2 = tf.keras.models.Sequential([\n",
    "            self.feature_extractor,\n",
    "            self.label_predictor\n",
    "        ])\n",
    "        \n",
    "        \n",
    "        self.loss = tf.keras.losses.SparseCategoricalCrossentropy()\n",
    "        self.loss_2 = tf.keras.losses.SparseCategoricalCrossentropy()\n",
    "        \n",
    "        self.optimizer = tf.keras.optimizers.Adam()\n",
    "        self.optimizer_2 = tf.keras.optimizers.Adam(learning_rate=0.001)\n",
    "        \n",
    "        self.train_loss = tf.keras.metrics.Mean()\n",
    "        self.train_loss_2 = tf.keras.metrics.Mean()\n",
    "        \n",
    "        self.train_accuracy = tf.keras.metrics.SparseCategoricalAccuracy()\n",
    "        self.train_accuracy_2 = tf.keras.metrics.SparseCategoricalAccuracy()\n",
    "        \n",
    "        \n",
    "        self.test_loss = tf.keras.metrics.Mean()\n",
    "        self.test_loss_2 = tf.keras.metrics.Mean()\n",
    "        self.test_accuracy = tf.keras.metrics.SparseCategoricalAccuracy()\n",
    "        self.test_accuracy_2 = tf.keras.metrics.SparseCategoricalAccuracy()\n",
    "\n",
    "    @tf.function\n",
    "    def train(self, x_train, y_train):\n",
    "        with tf.GradientTape() as tape:\n",
    "            y_pred = self.path_1(x_train)\n",
    "            loss = self.loss(y_train, y_pred)\n",
    "        gradients = tape.gradient(loss, self.path_1.trainable_variables)\n",
    "        self.optimizer.apply_gradients(zip(gradients, self.path_1.trainable_variables))\n",
    "\n",
    "        self.train_loss(loss)\n",
    "        self.train_accuracy(y_train, y_pred)\n",
    "        \n",
    "        return\n",
    "    \n",
    "    @tf.function\n",
    "    def train_2(self, x_train, y_train):\n",
    "        with tf.GradientTape() as tape:\n",
    "            y_pred = self.path_2(x_train)\n",
    "            loss = self.loss_2(y_train, y_pred)\n",
    "        gradients = tape.gradient(loss, self.path_2.trainable_variables)\n",
    "        self.optimizer_2.apply_gradients(zip(gradients, self.path_2.trainable_variables))\n",
    "\n",
    "        self.train_loss_2(loss)\n",
    "        self.train_accuracy_2(y_train, y_pred)\n",
    "        \n",
    "        return\n",
    "    \n",
    "    @tf.function\n",
    "    def test(self, x_test, y_test):\n",
    "        y_pred = self.path_1(x_test)\n",
    "        loss = self.loss(y_test, y_pred)\n",
    "\n",
    "        self.test_loss(loss)\n",
    "        self.test_accuracy(y_test, y_pred)\n",
    "        \n",
    "    @tf.function\n",
    "    def test_2(self, x_test, y_test):\n",
    "        y_pred = self.path_2(x_test)\n",
    "        loss = self.loss_2(y_test, y_pred)\n",
    "\n",
    "        self.test_loss_2(loss)\n",
    "        self.test_accuracy_2(y_test, y_pred)"
   ]
  },
  {
   "cell_type": "code",
   "execution_count": 3,
   "metadata": {},
   "outputs": [],
   "source": [
    "x_train = np.load('../data/mnist/x_train.npy')\n",
    "y_train = np.load('../data/mnist/y_train.npy')\n",
    "\n",
    "x_test = np.load('../data/mnist/x_test.npy')\n",
    "y_test = np.load('../data/mnist/y_test.npy')\n",
    "\n",
    "# (x_train, y_train), (x_test, y_test) = mnist.load_data()\n",
    "x_train, x_test = x_train / 255.0, x_test / 255.0\n",
    "\n",
    "x_train = x_train[..., tf.newaxis]\n",
    "x_test = x_test[..., tf.newaxis]"
   ]
  },
  {
   "cell_type": "code",
   "execution_count": 4,
   "metadata": {},
   "outputs": [],
   "source": [
    "x_train = x_train - 0.5\n",
    "x_test = x_test - 0.5"
   ]
  },
  {
   "cell_type": "code",
   "execution_count": 5,
   "metadata": {},
   "outputs": [],
   "source": [
    "x_train = tf.cast(x_train, tf.float32)\n",
    "x_test = tf.cast(x_test, tf.float32)\n",
    "y_train = tf.cast(y_train, tf.float32)\n",
    "y_test = tf.cast(y_test, tf.float32)"
   ]
  },
  {
   "cell_type": "code",
   "execution_count": 6,
   "metadata": {},
   "outputs": [],
   "source": [
    "x_train_2 = tf.concat([x_train, x_train + tf.random.normal(x_train.shape, mean=0.0, stddev=.1)], axis=0)\n",
    "x_test_2 = tf.concat([x_test, x_test + tf.random.normal(x_test.shape, mean=0.0, stddev=.1)], axis=0)"
   ]
  },
  {
   "cell_type": "code",
   "execution_count": 7,
   "metadata": {},
   "outputs": [],
   "source": [
    "y_train_2 = tf.concat([np.zeros(len(x_train)), np.ones(len(x_train))], axis=0)\n",
    "y_test_2 = tf.concat([np.zeros(len(x_test)), np.ones(len(x_test))], axis=0)"
   ]
  },
  {
   "cell_type": "code",
   "execution_count": 8,
   "metadata": {},
   "outputs": [],
   "source": [
    "train_ds = tf.data.Dataset.from_tensor_slices(\n",
    "    (x_train, y_train)).shuffle(len(x_train)).batch(1000)\n",
    "test_ds = tf.data.Dataset.from_tensor_slices((x_test, y_test)).batch(1000)"
   ]
  },
  {
   "cell_type": "code",
   "execution_count": 9,
   "metadata": {},
   "outputs": [],
   "source": [
    "train_ds_2 = tf.data.Dataset.from_tensor_slices(\n",
    "    (x_train_2, y_train_2)).shuffle(len(x_train_2)).batch(2000)\n",
    "test_ds_2 = tf.data.Dataset.from_tensor_slices((x_test_2, y_test_2)).batch(2000)"
   ]
  },
  {
   "cell_type": "code",
   "execution_count": 10,
   "metadata": {},
   "outputs": [],
   "source": [
    "model = MNIST(input_shape=(28, 28, 1))"
   ]
  },
  {
   "cell_type": "code",
   "execution_count": 11,
   "metadata": {
    "scrolled": false
   },
   "outputs": [],
   "source": [
    "# EPOCHS = 5\n",
    "\n",
    "# for epoch in range(EPOCHS):\n",
    "#     for images, labels in train_ds:\n",
    "#         model.train(images, labels)\n",
    "\n",
    "#     for test_images, test_labels in test_ds:\n",
    "#         model.test(test_images, test_labels)\n",
    "\n",
    "#     template = '에포크: {}, 손실: {}, 정확도: {}, 테스트 손실: {}, 테스트 정확도: {}'\n",
    "#     print(template.format(epoch+1,\n",
    "#                          model.train_loss.result(),\n",
    "#                          model.train_accuracy.result()*100,\n",
    "#                          model.test_loss.result(),\n",
    "#                          model.test_accuracy.result()*100))"
   ]
  },
  {
   "cell_type": "code",
   "execution_count": 12,
   "metadata": {
    "scrolled": false
   },
   "outputs": [
    {
     "name": "stdout",
     "output_type": "stream",
     "text": [
      "Epoch: 1\n",
      "L1: 0.6989, Acc1: 81.08, L1 Test: 0.1660, Acc1 Test: 95.09\n",
      "L2: 0.0000, Acc2: 0.00, L2 Test: 0.0000, Acc2 Test: 0.00\n",
      "\n",
      "Epoch: 2\n",
      "L1: 0.4150, Acc1: 88.60, L1 Test: 0.1244, Acc1 Test: 96.33\n",
      "L2: 0.0000, Acc2: 0.00, L2 Test: 0.0000, Acc2 Test: 0.00\n",
      "\n",
      "Epoch: 3\n",
      "L1: 0.3042, Acc1: 91.58, L1 Test: 0.1029, Acc1 Test: 96.91\n",
      "L2: 0.0000, Acc2: 0.00, L2 Test: 0.0000, Acc2 Test: 0.00\n",
      "\n",
      "Epoch: 4\n",
      "L1: 0.2439, Acc1: 93.20, L1 Test: 0.0891, Acc1 Test: 97.28\n",
      "L2: 0.0000, Acc2: 0.00, L2 Test: 0.0000, Acc2 Test: 0.00\n",
      "\n",
      "Epoch: 5\n",
      "L1: 0.2057, Acc1: 94.24, L1 Test: 0.0796, Acc1 Test: 97.54\n",
      "L2: 0.0000, Acc2: 0.00, L2 Test: 0.0000, Acc2 Test: 0.00\n",
      "\n",
      "Epoch: 6\n",
      "L1: 0.1787, Acc1: 94.97, L1 Test: 0.0729, Acc1 Test: 97.73\n",
      "L2: 0.0000, Acc2: 0.00, L2 Test: 0.0000, Acc2 Test: 0.00\n",
      "\n",
      "Epoch: 7\n",
      "L1: 0.1586, Acc1: 95.53, L1 Test: 0.0683, Acc1 Test: 97.84\n",
      "L2: 0.0000, Acc2: 0.00, L2 Test: 0.0000, Acc2 Test: 0.00\n",
      "\n",
      "Epoch: 8\n",
      "L1: 0.1431, Acc1: 95.96, L1 Test: 0.0649, Acc1 Test: 97.93\n",
      "L2: 0.0000, Acc2: 0.00, L2 Test: 0.0000, Acc2 Test: 0.00\n",
      "\n",
      "Epoch: 9\n",
      "L1: 0.1306, Acc1: 96.30, L1 Test: 0.0615, Acc1 Test: 98.02\n",
      "L2: 0.0000, Acc2: 0.00, L2 Test: 0.0000, Acc2 Test: 0.00\n",
      "\n",
      "Epoch: 10\n",
      "L1: 0.1203, Acc1: 96.59, L1 Test: 0.0585, Acc1 Test: 98.11\n",
      "L2: 0.0000, Acc2: 0.00, L2 Test: 0.0000, Acc2 Test: 0.00\n",
      "\n"
     ]
    }
   ],
   "source": [
    "EPOCHS = 10\n",
    "\n",
    "for epoch in range(EPOCHS):\n",
    "    for (images, labels), (images_2, labels_2) in zip(train_ds, train_ds_2):\n",
    "        model.train(images, labels)\n",
    "#         model.train_2(images_2, labels_2)\n",
    "\n",
    "    for (test_images, test_labels), (test_images_2, test_labels_2) in zip(test_ds, test_ds_2):\n",
    "        model.test(test_images, test_labels)\n",
    "#         model.test_2(test_images_2, test_labels_2)\n",
    "\n",
    "    template = 'Epoch: {}\\n' + \\\n",
    "    'L1: {:.4f}, Acc1: {:.2f}, L1 Test: {:.4f}, Acc1 Test: {:.2f}\\n'+ \\\n",
    "    'L2: {:.4f}, Acc2: {:.2f}, L2 Test: {:.4f}, Acc2 Test: {:.2f}\\n'\n",
    "    \n",
    "    print(template.format(epoch+1,\n",
    "                         model.train_loss.result(),\n",
    "                         model.train_accuracy.result()*100,\n",
    "                         model.test_loss.result(),\n",
    "                         model.test_accuracy.result()*100,\n",
    "                         model.train_loss_2.result(),\n",
    "                         model.train_accuracy_2.result()*100,\n",
    "                         model.test_loss_2.result(),\n",
    "                         model.test_accuracy_2.result()*100))"
   ]
  },
  {
   "cell_type": "code",
   "execution_count": null,
   "metadata": {},
   "outputs": [],
   "source": [
    "for epoch in range(EPOCHS):\n",
    "    for (images, labels), (images_2, labels_2) in zip(train_ds, train_ds_2):\n",
    "        model.train(images, labels)\n",
    "        model.train_2(images_2, labels_2)\n",
    "\n",
    "    for (test_images, test_labels), (test_images_2, test_labels_2) in zip(test_ds, test_ds_2):\n",
    "        model.test(test_images, test_labels)\n",
    "        model.test_2(test_images_2, test_labels_2)\n",
    "\n",
    "    template = 'Epoch: {}\\n' + \\\n",
    "    'L1: {:.4f}, Acc1: {:.2f}, L1 Test: {:.4f}, Acc1 Test: {:.2f}\\n'+ \\\n",
    "    'L2: {:.4f}, Acc2: {:.2f}, L2 Test: {:.4f}, Acc2 Test: {:.2f}\\n'\n",
    "    \n",
    "    print(template.format(epoch+1,\n",
    "                         model.train_loss.result(),\n",
    "                         model.train_accuracy.result()*100,\n",
    "                         model.test_loss.result(),\n",
    "                         model.test_accuracy.result()*100,\n",
    "                         model.train_loss_2.result(),\n",
    "                         model.train_accuracy_2.result()*100,\n",
    "                         model.test_loss_2.result(),\n",
    "                         model.test_accuracy_2.result()*100))"
   ]
  },
  {
   "cell_type": "code",
   "execution_count": null,
   "metadata": {},
   "outputs": [],
   "source": [
    "for epoch in range(EPOCHS):\n",
    "    for (images, labels), (images_2, labels_2) in zip(train_ds, train_ds_2):\n",
    "        model.train(images, labels)\n",
    "#         model.train_2(images_2, labels_2)\n",
    "\n",
    "    for (test_images, test_labels), (test_images_2, test_labels_2) in zip(test_ds, test_ds_2):\n",
    "        model.test(test_images, test_labels)\n",
    "        model.test_2(test_images_2, test_labels_2)\n",
    "\n",
    "    template = 'Epoch: {}\\n' + \\\n",
    "    'L1: {:.4f}, Acc1: {:.2f}, L1 Test: {:.4f}, Acc1 Test: {:.2f}\\n'+ \\\n",
    "    'L2: {:.4f}, Acc2: {:.2f}, L2 Test: {:.4f}, Acc2 Test: {:.2f}\\n'\n",
    "    \n",
    "    print(template.format(epoch+1,\n",
    "                         model.train_loss.result(),\n",
    "                         model.train_accuracy.result()*100,\n",
    "                         model.test_loss.result(),\n",
    "                         model.test_accuracy.result()*100,\n",
    "                         model.train_loss_2.result(),\n",
    "                         model.train_accuracy_2.result()*100,\n",
    "                         model.test_loss_2.result(),\n",
    "                         model.test_accuracy_2.result()*100))"
   ]
  },
  {
   "cell_type": "code",
   "execution_count": null,
   "metadata": {},
   "outputs": [],
   "source": [
    "# class SVHN():"
   ]
  },
  {
   "cell_type": "code",
   "execution_count": null,
   "metadata": {},
   "outputs": [],
   "source": [
    "# class GTSRB():"
   ]
  }
 ],
 "metadata": {
  "kernelspec": {
   "display_name": "Python 3",
   "language": "python",
   "name": "python3"
  },
  "language_info": {
   "codemirror_mode": {
    "name": "ipython",
    "version": 3
   },
   "file_extension": ".py",
   "mimetype": "text/x-python",
   "name": "python",
   "nbconvert_exporter": "python",
   "pygments_lexer": "ipython3",
   "version": "3.6.8"
  }
 },
 "nbformat": 4,
 "nbformat_minor": 2
}

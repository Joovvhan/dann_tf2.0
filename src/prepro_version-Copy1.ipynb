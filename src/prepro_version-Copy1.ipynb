{
 "cells": [
  {
   "cell_type": "code",
   "execution_count": 1,
   "metadata": {},
   "outputs": [],
   "source": [
    "from preprocessing import prepare_dataset\n",
    "from models import DANN_Model"
   ]
  },
  {
   "cell_type": "code",
   "execution_count": 2,
   "metadata": {},
   "outputs": [],
   "source": [
    "(source_train_dataset, source_test_dataset, target_dataset, target_test_dataset) = prepare_dataset('MNIST', 'SYN')"
   ]
  },
  {
   "cell_type": "code",
   "execution_count": 3,
   "metadata": {},
   "outputs": [
    {
     "name": "stdout",
     "output_type": "stream",
     "text": [
      "Log folder created as ../log/m2syn_no_1\n"
     ]
    }
   ],
   "source": [
    "lp_lr = 0.00002\n",
    "dc_lr = 0.00002\n",
    "fe_lr = 0.000000\n",
    "# fe_lr = 0.000005\n",
    "\n",
    "lr = (lp_lr, dc_lr, fe_lr)\n",
    "model = DANN_Model(input_shape=(32, 32, 3), model_type='SVHN', run_name='m2syn_no', lr=lr)"
   ]
  },
  {
   "cell_type": "code",
   "execution_count": 4,
   "metadata": {
    "scrolled": false
   },
   "outputs": [
    {
     "name": "stderr",
     "output_type": "stream",
     "text": [
      "WARNING: Logging before flag parsing goes to stderr.\n",
      "W0629 14:19:07.077339 21536 deprecation.py:323] From c:\\users\\jw\\appdata\\local\\programs\\python\\python36\\lib\\site-packages\\tensorflow\\python\\ops\\math_grad.py:1220: add_dispatch_support.<locals>.wrapper (from tensorflow.python.ops.array_ops) is deprecated and will be removed in a future version.\n",
      "Instructions for updating:\n",
      "Use tf.where in 2.0, which has the same broadcast rule as np.where\n"
     ]
    },
    {
     "name": "stdout",
     "output_type": "stream",
     "text": [
      "Epoch: 1\n",
      "L1 Test: 1.7354, Acc1 Test: 37.87\n",
      "L2 Test: 1.8337, Acc2 Test: 50.00\n",
      "L3 Test: 6.2025, Acc3 Test: 10.38\n",
      "\n",
      "Epoch: 2\n",
      "L1 Test: 0.0525, Acc1 Test: 98.45\n",
      "L2 Test: 0.0130, Acc2 Test: 99.97\n",
      "L3 Test: 5.9051, Acc3 Test: 13.55\n",
      "\n",
      "Epoch: 3\n",
      "L1 Test: 0.0413, Acc1 Test: 98.72\n",
      "L2 Test: 0.0087, Acc2 Test: 99.97\n",
      "L3 Test: 5.8109, Acc3 Test: 15.09\n",
      "\n",
      "Epoch: 4\n",
      "L1 Test: 0.0375, Acc1 Test: 98.93\n",
      "L2 Test: 0.0128, Acc2 Test: 99.90\n",
      "L3 Test: 6.3284, Acc3 Test: 14.40\n",
      "\n",
      "Epoch: 5\n",
      "L1 Test: 0.0344, Acc1 Test: 98.92\n",
      "L2 Test: 0.0120, Acc2 Test: 99.91\n",
      "L3 Test: 6.3132, Acc3 Test: 15.34\n",
      "\n"
     ]
    }
   ],
   "source": [
    "EPOCHS = 5\n",
    "\n",
    "for epoch in range(EPOCHS):\n",
    "    for (source_images, class_labels), (target_images, _) in zip(source_train_dataset, target_dataset):\n",
    "        model.train(source_images, class_labels, target_images)\n",
    "\n",
    "    for (test_images, test_labels), (target_test_images, _), (target_images, target_labels) in zip(source_test_dataset, target_test_dataset, target_dataset):\n",
    "        model.test_source(test_images, test_labels, target_test_images)\n",
    "        model.test_target(target_images, target_labels)\n",
    "    \n",
    "    print('Epoch: {}'.format(epoch + 1))\n",
    "    print(model.log())"
   ]
  },
  {
   "cell_type": "code",
   "execution_count": 5,
   "metadata": {},
   "outputs": [
    {
     "name": "stdout",
     "output_type": "stream",
     "text": [
      "Epoch: 1\n",
      "L1 Test: 0.0307, Acc1 Test: 98.98\n",
      "L2 Test: 0.0193, Acc2 Test: 99.73\n",
      "L3 Test: 6.6739, Acc3 Test: 14.98\n",
      "\n",
      "Epoch: 2\n",
      "L1 Test: 0.0307, Acc1 Test: 99.03\n",
      "L2 Test: 0.0207, Acc2 Test: 99.66\n",
      "L3 Test: 6.4686, Acc3 Test: 15.73\n",
      "\n",
      "Epoch: 3\n",
      "L1 Test: 0.0342, Acc1 Test: 98.98\n",
      "L2 Test: 0.0134, Acc2 Test: 99.82\n",
      "L3 Test: 6.2850, Acc3 Test: 16.43\n",
      "\n",
      "Epoch: 4\n",
      "L1 Test: 0.0327, Acc1 Test: 99.07\n",
      "L2 Test: 0.0131, Acc2 Test: 99.81\n",
      "L3 Test: 6.2238, Acc3 Test: 17.03\n",
      "\n",
      "Epoch: 5\n",
      "L1 Test: 0.0313, Acc1 Test: 99.12\n",
      "L2 Test: 0.0157, Acc2 Test: 99.74\n",
      "L3 Test: 6.3155, Acc3 Test: 16.89\n",
      "\n",
      "Epoch: 6\n",
      "L1 Test: 0.0279, Acc1 Test: 99.17\n",
      "L2 Test: 0.0155, Acc2 Test: 99.74\n",
      "L3 Test: 6.0470, Acc3 Test: 18.17\n",
      "\n",
      "Epoch: 7\n",
      "L1 Test: 0.0295, Acc1 Test: 99.10\n",
      "L2 Test: 0.0202, Acc2 Test: 99.54\n",
      "L3 Test: 6.4419, Acc3 Test: 17.62\n",
      "\n",
      "Epoch: 8\n",
      "L1 Test: 0.0322, Acc1 Test: 99.00\n",
      "L2 Test: 0.0144, Acc2 Test: 99.71\n",
      "L3 Test: 6.1986, Acc3 Test: 17.81\n",
      "\n",
      "Epoch: 9\n",
      "L1 Test: 0.0321, Acc1 Test: 99.08\n",
      "L2 Test: 0.0154, Acc2 Test: 99.64\n",
      "L3 Test: 6.1754, Acc3 Test: 18.57\n",
      "\n",
      "Epoch: 10\n",
      "L1 Test: 0.0322, Acc1 Test: 99.12\n",
      "L2 Test: 0.0155, Acc2 Test: 99.67\n",
      "L3 Test: 6.3053, Acc3 Test: 18.57\n",
      "\n",
      "Epoch: 11\n",
      "L1 Test: 0.0314, Acc1 Test: 99.07\n",
      "L2 Test: 0.0108, Acc2 Test: 99.79\n",
      "L3 Test: 6.3033, Acc3 Test: 19.03\n",
      "\n",
      "Epoch: 12\n",
      "L1 Test: 0.0278, Acc1 Test: 99.18\n",
      "L2 Test: 0.0138, Acc2 Test: 99.72\n",
      "L3 Test: 6.2522, Acc3 Test: 19.05\n",
      "\n",
      "Epoch: 13\n",
      "L1 Test: 0.0308, Acc1 Test: 99.07\n",
      "L2 Test: 0.0133, Acc2 Test: 99.72\n",
      "L3 Test: 6.3980, Acc3 Test: 18.90\n",
      "\n",
      "Epoch: 14\n",
      "L1 Test: 0.0289, Acc1 Test: 99.20\n",
      "L2 Test: 0.0126, Acc2 Test: 99.73\n",
      "L3 Test: 6.1821, Acc3 Test: 20.32\n",
      "\n",
      "Epoch: 15\n",
      "L1 Test: 0.0286, Acc1 Test: 99.20\n",
      "L2 Test: 0.0147, Acc2 Test: 99.60\n",
      "L3 Test: 6.0776, Acc3 Test: 20.08\n",
      "\n"
     ]
    }
   ],
   "source": [
    "EPOCHS = 15\n",
    "\n",
    "for epoch in range(EPOCHS):\n",
    "    for (source_images, class_labels), (target_images, _) in zip(source_train_dataset, target_dataset):\n",
    "        model.train(source_images, class_labels, target_images)\n",
    "\n",
    "    for (test_images, test_labels), (target_test_images, _), (target_images, target_labels) in zip(source_test_dataset, target_test_dataset, target_dataset):\n",
    "        model.test_source(test_images, test_labels, target_test_images)\n",
    "        model.test_target(target_images, target_labels)\n",
    "    \n",
    "    print('Epoch: {}'.format(epoch + 1))\n",
    "    print(model.log())"
   ]
  },
  {
   "cell_type": "code",
   "execution_count": 6,
   "metadata": {
    "scrolled": false
   },
   "outputs": [
    {
     "name": "stdout",
     "output_type": "stream",
     "text": [
      "Epoch: 1\n",
      "L1 Test: 0.0277, Acc1 Test: 99.28\n",
      "L2 Test: 0.0066, Acc2 Test: 99.88\n",
      "L3 Test: 6.2955, Acc3 Test: 20.25\n",
      "\n",
      "Epoch: 2\n",
      "L1 Test: 0.0335, Acc1 Test: 99.03\n",
      "L2 Test: 0.0140, Acc2 Test: 99.67\n",
      "L3 Test: 6.0622, Acc3 Test: 20.91\n",
      "\n",
      "Epoch: 3\n",
      "L1 Test: 0.0320, Acc1 Test: 99.10\n",
      "L2 Test: 0.0190, Acc2 Test: 99.43\n",
      "L3 Test: 6.2523, Acc3 Test: 20.09\n",
      "\n",
      "Epoch: 4\n",
      "L1 Test: 0.0344, Acc1 Test: 98.95\n",
      "L2 Test: 0.0128, Acc2 Test: 99.67\n",
      "L3 Test: 5.9378, Acc3 Test: 21.28\n",
      "\n",
      "Epoch: 5\n",
      "L1 Test: 0.0348, Acc1 Test: 98.97\n",
      "L2 Test: 0.0107, Acc2 Test: 99.77\n",
      "L3 Test: 6.3443, Acc3 Test: 19.55\n",
      "\n",
      "Epoch: 6\n",
      "L1 Test: 0.0321, Acc1 Test: 99.07\n",
      "L2 Test: 0.0084, Acc2 Test: 99.83\n",
      "L3 Test: 6.3760, Acc3 Test: 20.54\n",
      "\n",
      "Epoch: 7\n",
      "L1 Test: 0.0362, Acc1 Test: 98.97\n",
      "L2 Test: 0.0097, Acc2 Test: 99.77\n",
      "L3 Test: 6.5884, Acc3 Test: 19.89\n",
      "\n",
      "Epoch: 8\n",
      "L1 Test: 0.0390, Acc1 Test: 99.02\n",
      "L2 Test: 0.0122, Acc2 Test: 99.71\n",
      "L3 Test: 6.4077, Acc3 Test: 20.34\n",
      "\n",
      "Epoch: 9\n",
      "L1 Test: 0.0364, Acc1 Test: 98.97\n",
      "L2 Test: 0.0051, Acc2 Test: 99.92\n",
      "L3 Test: 6.5728, Acc3 Test: 20.55\n",
      "\n",
      "Epoch: 10\n",
      "L1 Test: 0.0413, Acc1 Test: 98.85\n",
      "L2 Test: 0.0072, Acc2 Test: 99.87\n",
      "L3 Test: 7.0392, Acc3 Test: 19.43\n",
      "\n",
      "Epoch: 11\n",
      "L1 Test: 0.0290, Acc1 Test: 99.22\n",
      "L2 Test: 0.0192, Acc2 Test: 99.41\n",
      "L3 Test: 7.0046, Acc3 Test: 20.55\n",
      "\n",
      "Epoch: 12\n",
      "L1 Test: 0.0369, Acc1 Test: 98.90\n",
      "L2 Test: 0.0162, Acc2 Test: 99.53\n",
      "L3 Test: 6.6283, Acc3 Test: 21.39\n",
      "\n",
      "Epoch: 13\n",
      "L1 Test: 0.0454, Acc1 Test: 98.77\n",
      "L2 Test: 0.0078, Acc2 Test: 99.78\n",
      "L3 Test: 6.7286, Acc3 Test: 20.93\n",
      "\n",
      "Epoch: 14\n",
      "L1 Test: 0.0355, Acc1 Test: 99.05\n",
      "L2 Test: 0.0102, Acc2 Test: 99.72\n",
      "L3 Test: 6.8099, Acc3 Test: 21.24\n",
      "\n",
      "Epoch: 15\n",
      "L1 Test: 0.0281, Acc1 Test: 99.25\n",
      "L2 Test: 0.0227, Acc2 Test: 99.27\n",
      "L3 Test: 6.6132, Acc3 Test: 22.16\n",
      "\n"
     ]
    }
   ],
   "source": [
    "EPOCHS = 15\n",
    "\n",
    "for epoch in range(EPOCHS):\n",
    "    for (source_images, class_labels), (target_images, _) in zip(source_train_dataset, target_dataset):\n",
    "        model.train(source_images, class_labels, target_images)\n",
    "\n",
    "    for (test_images, test_labels), (target_test_images, _), (target_images, target_labels) in zip(source_test_dataset, target_test_dataset, target_dataset):\n",
    "        model.test_source(test_images, test_labels, target_test_images)\n",
    "        model.test_target(target_images, target_labels)\n",
    "    \n",
    "    print('Epoch: {}'.format(epoch + 1))\n",
    "    print(model.log())"
   ]
  }
 ],
 "metadata": {
  "kernelspec": {
   "display_name": "Python 3",
   "language": "python",
   "name": "python3"
  },
  "language_info": {
   "codemirror_mode": {
    "name": "ipython",
    "version": 3
   },
   "file_extension": ".py",
   "mimetype": "text/x-python",
   "name": "python",
   "nbconvert_exporter": "python",
   "pygments_lexer": "ipython3",
   "version": "3.6.8"
  }
 },
 "nbformat": 4,
 "nbformat_minor": 2
}
